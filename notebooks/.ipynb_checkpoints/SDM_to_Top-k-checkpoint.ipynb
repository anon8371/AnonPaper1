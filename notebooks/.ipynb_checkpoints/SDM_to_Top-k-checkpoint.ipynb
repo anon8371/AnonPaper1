{
 "cells": [
  {
   "cell_type": "code",
   "execution_count": 106,
   "metadata": {},
   "outputs": [
    {
     "name": "stdout",
     "output_type": "stream",
     "text": [
      "The autoreload extension is already loaded. To reload it, use:\n",
      "  %reload_ext autoreload\n"
     ]
    }
   ],
   "source": [
    "%load_ext autoreload\n",
    "%autoreload 2\n",
    "import os\n",
    "import sys\n",
    "module_path = os.path.abspath(os.path.join('..'))\n",
    "if module_path not in sys.path:\n",
    "    sys.path.append(module_path)\n",
    "sys.path.append('../py_scripts')\n",
    "from utils_SDM_to_Top_k import *\n",
    "\n",
    "# converting SDM Hamming distances into Top-K values. Expected number of neurons to write or read from. \n",
    "\n",
    "n=256#256 # dimensionality\n",
    "m=10#10 # number of patterns\n",
    "r=10000 # number of neurons"
   ]
  },
  {
   "cell_type": "code",
   "execution_count": 107,
   "metadata": {},
   "outputs": [
    {
     "name": "stdout",
     "output_type": "stream",
     "text": [
      "SNR optimal\n",
      "Optimal p 0.017099759466766975\n",
      "Optimal d 111\n",
      "expected number of neurons 170.99759466766974\n",
      "===\n",
      "Memory capacity optimal\n",
      "z score per bit 2.7816767255341874\n",
      "Optimal p 0.003816629587866843\n",
      "Optimal d 107\n",
      "expected number of neurons 38.16629587866843\n",
      "===\n",
      "Critical Distance optimal\n",
      "critical distance plot curves wrong way thus crit dist = 0\n",
      "critical distance plot curves wrong way thus crit dist = 0\n",
      "critical distance plot curves wrong way thus crit dist = 0\n"
     ]
    },
    {
     "name": "stderr",
     "output_type": "stream",
     "text": [
      "../py_scripts/utils_SDM_to_Top_k.py:120: RuntimeWarning: divide by zero encountered in log\n",
      "  expected_intersect = np.log(intersect)+np.log(perc_addresses_w_neurons)\n",
      "../py_scripts/utils_SDM_to_Top_k.py:135: RuntimeWarning: invalid value encountered in true_divide\n",
      "  snrs = target_freqs/sigmas\n",
      "/Users/trentonbricken/anaconda3/lib/python3.7/site-packages/scipy/stats/_distn_infrastructure.py:879: RuntimeWarning: invalid value encountered in greater\n",
      "  return (self.a < x) & (x < self.b)\n",
      "/Users/trentonbricken/anaconda3/lib/python3.7/site-packages/scipy/stats/_distn_infrastructure.py:879: RuntimeWarning: invalid value encountered in less\n",
      "  return (self.a < x) & (x < self.b)\n",
      "/Users/trentonbricken/anaconda3/lib/python3.7/site-packages/scipy/stats/_distn_infrastructure.py:1738: RuntimeWarning: invalid value encountered in greater_equal\n",
      "  cond2 = (x >= self.b) & cond0\n",
      "../py_scripts/utils_SDM_to_Top_k.py:153: RuntimeWarning: invalid value encountered in greater\n",
      "  crit_dist = dvals[np.argmax(npp[5:]>0)+5-1]\n"
     ]
    },
    {
     "name": "stdout",
     "output_type": "stream",
     "text": [
      "critical distance plot curves wrong way thus crit dist = 0\n",
      "critical distance plot curves wrong way thus crit dist = 0\n",
      "critical distance plot curves wrong way thus crit dist = 0\n",
      "critical distance plot curves wrong way thus crit dist = 0\n",
      "critical distance plot curves wrong way thus crit dist = 0\n"
     ]
    },
    {
     "name": "stderr",
     "output_type": "stream",
     "text": [
      "../py_scripts/utils_SDM_to_Top_k.py:120: RuntimeWarning: invalid value encountered in log\n",
      "  expected_intersect = np.log(intersect)+np.log(perc_addresses_w_neurons)\n"
     ]
    },
    {
     "name": "stdout",
     "output_type": "stream",
     "text": [
      "critical distance plot curves wrong way thus crit dist = 0\n",
      "critical distance plot curves wrong way thus crit dist = 0\n",
      "critical distance plot curves wrong way thus crit dist = 0\n",
      "critical distance plot curves wrong way thus crit dist = 0\n",
      "critical distance plot curves wrong way thus crit dist = 0\n",
      "critical distance plot curves wrong way thus crit dist = 0\n",
      "critical distance plot curves wrong way thus crit dist = 0\n",
      "critical distance plot curves wrong way thus crit dist = 0\n",
      "critical distance plot curves wrong way thus crit dist = 0\n",
      "critical distance plot curves wrong way thus crit dist = 0\n",
      "critical distance plot curves wrong way thus crit dist = 0\n",
      "critical distance plot curves wrong way thus crit dist = 0\n",
      "critical distance plot curves wrong way thus crit dist = 0\n",
      "critical distance plot curves wrong way thus crit dist = 0\n",
      "critical distance plot curves wrong way thus crit dist = 0\n",
      "critical distance plot curves wrong way thus crit dist = 0\n",
      "critical distance plot curves wrong way thus crit dist = 0\n",
      "critical distance plot curves wrong way thus crit dist = 0\n",
      "critical distance plot curves wrong way thus crit dist = 0\n",
      "critical distance plot curves wrong way thus crit dist = 0\n",
      "critical distance plot curves wrong way thus crit dist = 0\n",
      "critical distance plot curves wrong way thus crit dist = 0\n",
      "critical distance plot curves wrong way thus crit dist = 0\n",
      "critical distance plot curves wrong way thus crit dist = 0\n",
      "critical distance plot curves wrong way thus crit dist = 0\n",
      "critical distance plot curves wrong way thus crit dist = 0\n",
      "critical distance plot curves wrong way thus crit dist = 0\n",
      "critical distance plot curves wrong way thus crit dist = 0\n",
      "critical distance plot curves wrong way thus crit dist = 0\n",
      "critical distance plot curves wrong way thus crit dist = 0\n",
      "critical distance plot curves wrong way thus crit dist = 0\n",
      "critical distance plot curves wrong way thus crit dist = 0\n",
      "[  1   2   3   4   6   7   8   9  11  12  13  14  16  17  18  19  21  22\n",
      "  23  24  26  27  28  29  31  32  33  34  36  37  38  39  41  42  43  44\n",
      "  46  47  48  49  51  52  53  54  56  57  58  59  61  62  63  64  66  67\n",
      "  68  69  71  72  73  74  76  77  78  79  81  82  83  84  86  87  88  89\n",
      "  91  92  93  94  96  97  98  99 101 102 103 104 106 107 108 109 111 112\n",
      " 113 114 116 117 118 119 121 122 123 125]\n",
      "[0, 0, 0, 0, 0, 0, 0, 0, 0, 0, 0, 0, 0, 0, 0, 0, 0, 0, 0, 0, 0, 0, 0, 0, 0, 0, 0, 0, 0, 0, 0, 0, 0, 0, 0, 0, 0, 0, 0, 0, 0, 0, 0, 0, 0, 0, 0, 0, 0, 0, 0, 0, 0, 0, 0, 0, 0, 0, 0, 0, 0, 0, 0, 0, 0, 0, 0, 0, 0, 0, 0, 0, 0, 0, 0, 0, 0, 0, 0, 0, 0, 0, 68, 94, 128, 128, 128, 128, 128, 128, 128, 128, 128, 4, 4, 0, 0, 0, 0, 0]\n",
      "106\n"
     ]
    },
    {
     "data": {
      "image/png": "[encoded data removed]",
      "text/plain": [
       "<Figure size 432x288 with 1 Axes>"
      ]
     },
     "metadata": {
      "needs_background": "light"
     },
     "output_type": "display_data"
    },
    {
     "name": "stdout",
     "output_type": "stream",
     "text": [
      "expected number of neurons 35.40637028943781\n"
     ]
    }
   ],
   "source": [
    "print(\"SNR optimal\")\n",
    "optimal_snr_p, optimal_snr_dist = SNR_optimal(m,r,n)\n",
    "print(\"expected number of neurons\", r * optimal_snr_p )\n",
    "print(\"===\")\n",
    "print(\"Memory capacity optimal\")\n",
    "optimal_memory_p, optimal_memory_dist = Memory_Capacity_optimal(m,r,n )\n",
    "print(\"expected number of neurons\", r * optimal_memory_p )\n",
    "print(\"===\")\n",
    "print(\"Critical Distance optimal\")\n",
    "optimal_crit_p, optimal_crit_dist = Crit_Dist_optimal(m,r,n )\n",
    "print(\"expected number of neurons\", r * optimal_crit_p )"
   ]
  },
  {
   "cell_type": "code",
   "execution_count": 46,
   "metadata": {},
   "outputs": [
    {
     "name": "stdout",
     "output_type": "stream",
     "text": [
      "expected number of neurons 2.509134521810177e-57\n"
     ]
    }
   ],
   "source": [
    "# around 345 is optimal for this n, r and m. \n",
    "\n",
    "print(\"expected number of neurons\", r * hamm_dist_to_space_frac(n, [optimal_dist])[0] )"
   ]
  },
  {
   "cell_type": "code",
   "execution_count": 47,
   "metadata": {},
   "outputs": [
    {
     "data": {
      "text/plain": [
       "<matplotlib.collections.PathCollection at 0x7fea7d941cd0>"
      ]
     },
     "execution_count": 47,
     "metadata": {},
     "output_type": "execute_result"
    },
    {
     "data": {
      "image/png": "[encoded data removed]",
      "text/plain": [
       "<Figure size 432x288 with 1 Axes>"
      ]
     },
     "metadata": {
      "needs_background": "light"
     },
     "output_type": "display_data"
    }
   ],
   "source": [
    "dvals = np.linspace(0,(n//2)-1, 50 ).astype(int)\n",
    "k_vals = r * np.asarray(hamm_dist_to_space_frac(n, dvals))\n",
    "plt.scatter(dvals, k_vals)"
   ]
  },
  {
   "cell_type": "code",
   "execution_count": null,
   "metadata": {},
   "outputs": [],
   "source": []
  }
 ],
 "metadata": {
  "interpreter": {
   "hash": "e094a7aa47f98f5ed964598d735e02d51e4228a97f20f5ad758d3f00a384bdee"
  },
  "kernelspec": {
   "display_name": "Python 3 (ipykernel)",
   "language": "python",
   "name": "python3"
  },
  "language_info": {
   "codemirror_mode": {
    "name": "ipython",
    "version": 3
   },
   "file_extension": ".py",
   "mimetype": "text/x-python",
   "name": "python",
   "nbconvert_exporter": "python",
   "pygments_lexer": "ipython3",
   "version": "3.7.12"
  }
 },
 "nbformat": 4,
 "nbformat_minor": 4
}
