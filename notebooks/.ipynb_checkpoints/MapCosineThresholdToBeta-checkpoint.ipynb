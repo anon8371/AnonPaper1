{
 "cells": [
  {
   "cell_type": "code",
   "execution_count": 1,
   "id": "b058b005-4faf-4fb2-af44-afded10acb22",
   "metadata": {},
   "outputs": [],
   "source": [
    "import numpy as np\n",
    "import matplotlib.pyplot as plt\n",
    "from scipy.stats import binom, norm\n",
    "from scipy.sparse import csc_matrix, coo_matrix, csr_matrix\n",
    "import pandas as pd\n",
    "import scipy\n",
    "from scipy.integrate import quad\n",
    "import time\n",
    "from scipy.special import comb\n",
    "import torch\n",
    "import torch.optim as optim\n",
    "import torch.nn.functional as F"
   ]
  },
  {
   "cell_type": "code",
   "execution_count": 2,
   "id": "f2f3aa39-a1aa-402d-8b54-1918579fc435",
   "metadata": {},
   "outputs": [],
   "source": [
    "\n",
    "def check_cosine_and_hamm_bounds(cosines, hamms, n):\n",
    "    \"\"\"\n",
    "    Ensuring conversion between cosine and hamming distance don't have \n",
    "    any numerical errors. \n",
    "    \"\"\"\n",
    "    if not torch.is_tensor(cosines):\n",
    "        cosines, hamms = np.asarray(cosines), np.asarray(hamms)\n",
    "    assert (hamms<0).sum() == 0 and (hamms > n).sum() == 0, \"Hamm is out of bounds!\"\n",
    "    assert (cosines>1).sum() == 0 and (cosines<-1).sum() == 0, \"Cosine is out of bounds!\"\n",
    "    \n",
    "def cosine_to_hamm(cosines, n): \n",
    "    if torch.is_tensor(cosines):\n",
    "        # some cosines are numerically unstable in being larger than 1.0 by a small epsilon... \n",
    "        # going to fix these. \n",
    "        numerical_error_inds = torch.logical_and(cosines>1, cosines < 1+ 1e-4)\n",
    "        cosines[numerical_error_inds] -=1e-4\n",
    "    hamms = n*(1-cosines)/2\n",
    "    hamms = torch.floor(hamms) if torch.is_tensor(cosines) else np.floor(hamms)\n",
    "    check_cosine_and_hamm_bounds(cosines, hamms, n)\n",
    "    return hamms\n",
    "\n",
    "def hamm_to_cosine(hamms, n):\n",
    "    cosines = 1-(hamms*2/n)\n",
    "    check_cosine_and_hamm_bounds(cosines, hamms, n)\n",
    "    return cosines\n",
    "\n",
    "def integral_func(phi, th1, n):\n",
    "    \"\"\" Used in computing the continuous hypersphere cap intersection below. \"\"\"\n",
    "    return np.sin(phi)**(n-2) * scipy.special.betainc( (n-2)/2 , 1/2, 1-( (np.tan(th1))/(np.tan(phi)) )**2 )\n",
    "\n",
    "def log_J_n(th1, th2, r, n):\n",
    "    \"\"\" Used in computing the continuous hypersphere cap intersection below. \"\"\"\n",
    "    integral = quad(integral_func, th1, th2, args=(th1, n) )[0]\n",
    "    #print(np.log(np.pi**( (n-1) /2) ) , scipy.special.loggamma( (n-1) /2), np.log(r**(n-1)), np.log(integral ))\n",
    "    return np.log(np.pi**( (n-1) /2) ) - scipy.special.loggamma( (n-1) /2) + np.log(r**(n-1)) + np.log(integral )\n",
    "\n",
    "def expected_intersection_interpretable(n, dvals, hamm_radius, r, weight_type=None):\n",
    "    \n",
    "    if r is None: \n",
    "        r = 1.0\n",
    "    \n",
    "    perc_addresses_w_neurons = np.log(float(r)) - np.log(2.0**n)\n",
    "    res = []\n",
    "    for dval in dvals:\n",
    "\n",
    "        possible_addresses = 0\n",
    "        for a in np.arange(n-hamm_radius-(dval//2),n+0.1-dval):\n",
    "\n",
    "            # solve just for b then c is determined. \n",
    "            bvals = np.arange(np.maximum(0,n-hamm_radius-a), dval-(n-hamm_radius-a)+0.1) # +0.1 to ensure that the value here is represented.\n",
    "            #print(a, 'b values', bvals)\n",
    "            if len(bvals)==0:\n",
    "                continue\n",
    "                \n",
    "            if weight_type == \"Linear\":\n",
    "                # linear weighting from the read and write operations. \n",
    "                weighting = ((a+bvals)/n) * ( (a+(dval-bvals))/n )\n",
    "            if weight_type == \"Expo\":\n",
    "                # linear weighting from the read and write operations. \n",
    "                weighting = np.exp(-0.01*(n-(a+bvals))) * np.exp(-0.01*(n-(a+(dval-bvals))))\n",
    "            elif not weight_type: \n",
    "                weighting = 1\n",
    "\n",
    "            possible_addresses += comb(n-dval,a)*(weighting*comb(dval,bvals)).sum()\n",
    "        expected_intersect = perc_addresses_w_neurons + np.log(possible_addresses)\n",
    "        res.append(np.exp(expected_intersect))\n",
    "    return np.asarray(res)\n",
    "\n",
    "def space_frac_to_hamm_radius(n, space_frac_rang):\n",
    "    \"\"\" Computes the Hamming distance that should be used for a circle \n",
    "    to have an area that includes a given fraction of a given n \n",
    "    dimensional space.\n",
    "    \n",
    "    args::\n",
    "    - n = space dimension\n",
    "    - space_frac_rang = list of space fractions to use\n",
    "    \n",
    "    returns::\n",
    "    -list of hamming distances to use\n",
    "    \"\"\"\n",
    "    \n",
    "    hamm_radiusances = []\n",
    "    for space_frac in space_frac_rang:\n",
    "        hamm_radiusances.append( int(binom.ppf(space_frac, n, 0.5)) )\n",
    "    return hamm_radiusances\n",
    "\n",
    "def cap_intersection(n, cs_dvs, hamm_radius, r, rad=1, \n",
    "                         return_log=False, ham_input = False, print_oobs=False):\n",
    "    \"\"\" \n",
    "     Computes the continuous hypersphere cap intersection. \n",
    "     Does all compute in log space for numerical stability, option to return \n",
    "     log results or not. \n",
    "    \"\"\"\n",
    "    #size of total space\n",
    "    log_total_space = log_hypersphere_sa(n,rad)\n",
    "        \n",
    "    if r is not None: \n",
    "        if type(r) != int: \n",
    "            r = np.round(r) # number of neurons\n",
    "        r = float(r)\n",
    "        log_perc_addresses_w_neurons = np.log(r) - log_total_space\n",
    "    else: \n",
    "        log_perc_addresses_w_neurons = np.log(1e40) # a very large number of neurons\n",
    "\n",
    "    if ham_input: \n",
    "        cs_dvs = hamm_to_cosine(cs_dvs)\n",
    "    c_dist  = hamm_to_cosine(hamm_radius,n)\n",
    "    t1 = t2 = np.arccos(c_dist)\n",
    "    log_inters = []\n",
    "    for cs_dv in cs_dvs:\n",
    "        tv = np.arccos(cs_dv)\n",
    "        if tv>=t1+t2 or t1+t2>(2*np.pi)-tv:\n",
    "            if print_oobs:\n",
    "                print(\"out of equation bounds\", cs_dv)\n",
    "            log_inters.append(np.nan)\n",
    "            continue\n",
    "        tmin = np.arctan( (np.cos(t1)/(np.cos(t2)*np.sin(tv))) - (1/np.tan(tv)) )\n",
    "        assert np.round(tmin,5) == np.round(tv-tmin,5)\n",
    "        assert np.round(t2,5)==np.round(t1,5)\n",
    "        \n",
    "        log_inters.append(2+log_J_n(tmin, t2, rad, n) )\n",
    "    log_inters = np.asarray(log_inters)\n",
    "    log_num_expected_neurons = log_inters + log_perc_addresses_w_neurons\n",
    "    if return_log:\n",
    "        # have not removed the nans either\n",
    "        log_num_expected_neurons = np.nan_to_num(log_num_expected_neurons, nan=-1e+30)\n",
    "        return log_num_expected_neurons\n",
    "    else: \n",
    "        num_expected_neurons = np.exp(log_num_expected_neurons)\n",
    "        num_expected_neurons = np.nan_to_num(num_expected_neurons, nan=0.0)\n",
    "        return num_expected_neurons\n",
    "    \n",
    "def log_hypersphere_sa(n, rad=1):\n",
    "    # n dim hypersphere surface area.\n",
    "    # https://en.wikipedia.org/wiki/Unit_sphere\n",
    "    # assuming L2 norm with r=1!\n",
    "    return np.log(2* (np.pi**(n/2) ) ) - scipy.special.loggamma(n/2)  + np.log(rad**(n-1)) \n",
    "\n",
    "def fit_beta_regression(n, xvals, res, return_bias=False, ham_input=True):\n",
    "    \"\"\" Log linear regression to fit a beta coefficent to whatever is input.\"\"\"\n",
    "    xvals = np.asarray(xvals)\n",
    "    res = np.asarray(res)\n",
    "    if ham_input: \n",
    "        xvals = hamm_to_cosine(xvals, n)\n",
    "    zeros_in_res = False\n",
    "    # need to remove any zeros for this calculation. \n",
    "    if res[-1] == 0.0:\n",
    "        print(\"res equals 0, problem for the log. Removing from the equation here.\")\n",
    "        mask = res!=0.0\n",
    "        num_zeros = (res==0.0).sum()\n",
    "        res = res[mask]\n",
    "        xvals = xvals[mask]\n",
    "        zeros_in_res = True\n",
    "    yvals = np.log(np.asarray(res))\n",
    "    # log linear regression closed form solution. \n",
    "    beta = np.cov(xvals, yvals)[0][1] / np.var(xvals)\n",
    "    bias = np.mean(yvals) - beta*np.mean(xvals)\n",
    "    #mse between res and beta res: \n",
    "    #print('Beta Fit MSE:',np.sum((res-np.exp(beta*xvals)+bias)**2)/len(res) )\n",
    "    \n",
    "    if return_bias: \n",
    "        return beta, bias\n",
    "    else: \n",
    "        return beta"
   ]
  },
  {
   "cell_type": "code",
   "execution_count": null,
   "id": "d0bb7063-be27-4fe8-81d7-bd06f0f4d44c",
   "metadata": {},
   "outputs": [],
   "source": []
  },
  {
   "cell_type": "code",
   "execution_count": 3,
   "id": "391a2a95-bd3b-4dc0-a73a-b328bed42b27",
   "metadata": {},
   "outputs": [],
   "source": [
    "\n",
    "n=2000\n",
    "n_points = 100\n",
    "#cs_dvs = np.linspace(-0.9999,0.9999,1000)\n",
    "r = 100000"
   ]
  },
  {
   "cell_type": "code",
   "execution_count": 13,
   "id": "bc5f34bb-01d7-41f2-ad50-b233e7f1149f",
   "metadata": {
    "tags": []
   },
   "outputs": [
    {
     "name": "stdout",
     "output_type": "stream",
     "text": [
      "Hamm dist: 800 cosine sim 0.19999999999999996\n"
     ]
    },
    {
     "ename": "OverflowError",
     "evalue": "(34, 'Result too large')",
     "output_type": "error",
     "traceback": [
      "\u001b[0;31m---------------------------------------------------------------------------\u001b[0m",
      "\u001b[0;31mOverflowError\u001b[0m                             Traceback (most recent call last)",
      "\u001b[0;32m/var/folders/1q/6pbw30m128z5zbp5kfft7rn40000gn/T/ipykernel_77377/2275177924.py\u001b[0m in \u001b[0;36m<module>\u001b[0;34m\u001b[0m\n\u001b[1;32m     17\u001b[0m     \u001b[0mres\u001b[0m \u001b[0;34m=\u001b[0m \u001b[0mnp\u001b[0m\u001b[0;34m.\u001b[0m\u001b[0mnan_to_num\u001b[0m\u001b[0;34m(\u001b[0m\u001b[0mres\u001b[0m\u001b[0;34m,\u001b[0m \u001b[0mnan\u001b[0m\u001b[0;34m=\u001b[0m\u001b[0;36m0.0\u001b[0m\u001b[0;34m)\u001b[0m\u001b[0;34m\u001b[0m\u001b[0;34m\u001b[0m\u001b[0m\n\u001b[1;32m     18\u001b[0m \u001b[0;34m\u001b[0m\u001b[0m\n\u001b[0;32m---> 19\u001b[0;31m     \u001b[0mcap_res\u001b[0m \u001b[0;34m=\u001b[0m \u001b[0mcap_intersection\u001b[0m\u001b[0;34m(\u001b[0m\u001b[0mn\u001b[0m\u001b[0;34m,\u001b[0m \u001b[0mcont_cs_v\u001b[0m\u001b[0;34m,\u001b[0m \u001b[0mhamm_dist\u001b[0m\u001b[0;34m,\u001b[0m \u001b[0mr\u001b[0m\u001b[0;34m)\u001b[0m\u001b[0;34m\u001b[0m\u001b[0;34m\u001b[0m\u001b[0m\n\u001b[0m\u001b[1;32m     20\u001b[0m     \u001b[0mcap_res\u001b[0m \u001b[0;34m=\u001b[0m \u001b[0mnp\u001b[0m\u001b[0;34m.\u001b[0m\u001b[0mnan_to_num\u001b[0m\u001b[0;34m(\u001b[0m\u001b[0mcap_res\u001b[0m\u001b[0;34m,\u001b[0m \u001b[0mnan\u001b[0m\u001b[0;34m=\u001b[0m\u001b[0;36m0.0\u001b[0m\u001b[0;34m)\u001b[0m\u001b[0;34m\u001b[0m\u001b[0;34m\u001b[0m\u001b[0m\n\u001b[1;32m     21\u001b[0m \u001b[0;34m\u001b[0m\u001b[0m\n",
      "\u001b[0;32m/var/folders/1q/6pbw30m128z5zbp5kfft7rn40000gn/T/ipykernel_77377/2467239654.py\u001b[0m in \u001b[0;36mcap_intersection\u001b[0;34m(n, cs_dvs, hamm_radius, r, rad, return_log, ham_input, print_oobs)\u001b[0m\n\u001b[1;32m     93\u001b[0m     \"\"\"\n\u001b[1;32m     94\u001b[0m     \u001b[0;31m#size of total space\u001b[0m\u001b[0;34m\u001b[0m\u001b[0;34m\u001b[0m\u001b[0;34m\u001b[0m\u001b[0m\n\u001b[0;32m---> 95\u001b[0;31m     \u001b[0mlog_total_space\u001b[0m \u001b[0;34m=\u001b[0m \u001b[0mlog_hypersphere_sa\u001b[0m\u001b[0;34m(\u001b[0m\u001b[0mn\u001b[0m\u001b[0;34m,\u001b[0m\u001b[0mrad\u001b[0m\u001b[0;34m)\u001b[0m\u001b[0;34m\u001b[0m\u001b[0;34m\u001b[0m\u001b[0m\n\u001b[0m\u001b[1;32m     96\u001b[0m \u001b[0;34m\u001b[0m\u001b[0m\n\u001b[1;32m     97\u001b[0m     \u001b[0;32mif\u001b[0m \u001b[0mr\u001b[0m \u001b[0;32mis\u001b[0m \u001b[0;32mnot\u001b[0m \u001b[0;32mNone\u001b[0m\u001b[0;34m:\u001b[0m\u001b[0;34m\u001b[0m\u001b[0;34m\u001b[0m\u001b[0m\n",
      "\u001b[0;32m/var/folders/1q/6pbw30m128z5zbp5kfft7rn40000gn/T/ipykernel_77377/2467239654.py\u001b[0m in \u001b[0;36mlog_hypersphere_sa\u001b[0;34m(n, rad)\u001b[0m\n\u001b[1;32m    135\u001b[0m     \u001b[0;31m# https://en.wikipedia.org/wiki/Unit_sphere\u001b[0m\u001b[0;34m\u001b[0m\u001b[0;34m\u001b[0m\u001b[0;34m\u001b[0m\u001b[0m\n\u001b[1;32m    136\u001b[0m     \u001b[0;31m# assuming L2 norm with r=1!\u001b[0m\u001b[0;34m\u001b[0m\u001b[0;34m\u001b[0m\u001b[0;34m\u001b[0m\u001b[0m\n\u001b[0;32m--> 137\u001b[0;31m     \u001b[0;32mreturn\u001b[0m \u001b[0mnp\u001b[0m\u001b[0;34m.\u001b[0m\u001b[0mlog\u001b[0m\u001b[0;34m(\u001b[0m\u001b[0;36m2\u001b[0m\u001b[0;34m*\u001b[0m \u001b[0;34m(\u001b[0m\u001b[0mnp\u001b[0m\u001b[0;34m.\u001b[0m\u001b[0mpi\u001b[0m\u001b[0;34m**\u001b[0m\u001b[0;34m(\u001b[0m\u001b[0mn\u001b[0m\u001b[0;34m/\u001b[0m\u001b[0;36m2\u001b[0m\u001b[0;34m)\u001b[0m \u001b[0;34m)\u001b[0m \u001b[0;34m)\u001b[0m \u001b[0;34m-\u001b[0m \u001b[0mscipy\u001b[0m\u001b[0;34m.\u001b[0m\u001b[0mspecial\u001b[0m\u001b[0;34m.\u001b[0m\u001b[0mloggamma\u001b[0m\u001b[0;34m(\u001b[0m\u001b[0mn\u001b[0m\u001b[0;34m/\u001b[0m\u001b[0;36m2\u001b[0m\u001b[0;34m)\u001b[0m  \u001b[0;34m+\u001b[0m \u001b[0mnp\u001b[0m\u001b[0;34m.\u001b[0m\u001b[0mlog\u001b[0m\u001b[0;34m(\u001b[0m\u001b[0mrad\u001b[0m\u001b[0;34m**\u001b[0m\u001b[0;34m(\u001b[0m\u001b[0mn\u001b[0m\u001b[0;34m-\u001b[0m\u001b[0;36m1\u001b[0m\u001b[0;34m)\u001b[0m\u001b[0;34m)\u001b[0m\u001b[0;34m\u001b[0m\u001b[0;34m\u001b[0m\u001b[0m\n\u001b[0m\u001b[1;32m    138\u001b[0m \u001b[0;34m\u001b[0m\u001b[0m\n\u001b[1;32m    139\u001b[0m \u001b[0;32mdef\u001b[0m \u001b[0mfit_beta_regression\u001b[0m\u001b[0;34m(\u001b[0m\u001b[0mn\u001b[0m\u001b[0;34m,\u001b[0m \u001b[0mxvals\u001b[0m\u001b[0;34m,\u001b[0m \u001b[0mres\u001b[0m\u001b[0;34m,\u001b[0m \u001b[0mreturn_bias\u001b[0m\u001b[0;34m=\u001b[0m\u001b[0;32mFalse\u001b[0m\u001b[0;34m,\u001b[0m \u001b[0mham_input\u001b[0m\u001b[0;34m=\u001b[0m\u001b[0;32mTrue\u001b[0m\u001b[0;34m)\u001b[0m\u001b[0;34m:\u001b[0m\u001b[0;34m\u001b[0m\u001b[0;34m\u001b[0m\u001b[0m\n",
      "\u001b[0;31mOverflowError\u001b[0m: (34, 'Result too large')"
     ]
    }
   ],
   "source": [
    "space_frac_rang = [4*(10**(-13)), 0.000000001, 0.00000001, 0.00001, 0.00037, 0.001, 0.1]\n",
    "hamm_distances = np.unique(np.linspace(800,(n//2)-1,100)).astype(int) #space_frac_to_hamm_radius(n, space_frac_rang)\n",
    "\n",
    "dvs = np.linspace(0,n,n_points).astype(int)\n",
    "dvs = np.unique(dvs)\n",
    "cs_v = hamm_to_cosine(dvs,n) # for the softmax\n",
    "cont_cs_v = np.copy(cs_v)\n",
    "cont_cs_v[0] = cont_cs_v[0] - 1e-15\n",
    "assert cont_cs_v[0] != 'should not be 1 else will throw a division error in the equation.'\n",
    "\n",
    "bin_betas = []\n",
    "cap_betas = []\n",
    "for ind, hamm_dist in enumerate(hamm_distances): \n",
    "    print(\"Hamm dist:\", hamm_dist, \"cosine sim\", hamm_to_cosine(hamm_dist, n))\n",
    "\n",
    "    res = expected_intersection_interpretable(n, dvs, hamm_dist, r)\n",
    "    res = np.nan_to_num(res, nan=0.0)\n",
    "\n",
    "    cap_res = cap_intersection(n, cont_cs_v, hamm_dist, r)\n",
    "    cap_res = np.nan_to_num(cap_res, nan=0.0)\n",
    "    \n",
    "    #plt.plot(cont_cs_v, cap_res/cap_res.sum())\n",
    "    #plt.show()\n",
    "\n",
    "    chop_ind = int( (hamm_dist)//(n/len(dvs)) )\n",
    "\n",
    "    chopped_dvs = dvs[:chop_ind]\n",
    "    chopped_cs_v = cs_v[:chop_ind]\n",
    "    chopped_res = res[:chop_ind]\n",
    "    chopped_cont_cs_v = cont_cs_v[:chop_ind] # intersect falls off at one value closer.\n",
    "    chopped_cap_res = cap_res[:chop_ind]\n",
    "\n",
    "    #print('chop ind and its success', chop_ind, res[:chop_ind+1], cap_res[:chop_ind])\n",
    "\n",
    "    assert (chopped_res<=0.0).sum()==0, \"Chopped ind is incorrect\"\n",
    "    assert (chopped_cap_res<=0.0).sum()==0, \"Chopped ind is incorrect\"\n",
    "\n",
    "    bin_beta,bin_bias = fit_beta_regression(n, chopped_cs_v, chopped_res, return_bias=True, ham_input=False )\n",
    "    cap_beta,cap_bias = fit_beta_regression(n, chopped_cont_cs_v, chopped_cap_res, return_bias=True, ham_input=False)\n",
    "    \n",
    "    bin_betas.append(bin_beta)\n",
    "    cap_betas.append(cap_beta)\n",
    "    \n",
    "    print(cap_beta, bin_beta)\n",
    "    print(\"======\")"
   ]
  },
  {
   "cell_type": "code",
   "execution_count": 5,
   "id": "3168016c-6c76-4987-8408-fd03656e1ccc",
   "metadata": {},
   "outputs": [
    {
     "ename": "ValueError",
     "evalue": "x and y must have same first dimension, but have shapes (100,) and (0,)",
     "output_type": "error",
     "traceback": [
      "\u001b[0;31m---------------------------------------------------------------------------\u001b[0m",
      "\u001b[0;31mValueError\u001b[0m                                Traceback (most recent call last)",
      "\u001b[0;32m/var/folders/1q/6pbw30m128z5zbp5kfft7rn40000gn/T/ipykernel_77377/4062015130.py\u001b[0m in \u001b[0;36m<module>\u001b[0;34m\u001b[0m\n\u001b[1;32m      1\u001b[0m \u001b[0mcts\u001b[0m \u001b[0;34m=\u001b[0m \u001b[0mhamm_to_cosine\u001b[0m\u001b[0;34m(\u001b[0m\u001b[0mhamm_distances\u001b[0m\u001b[0;34m,\u001b[0m \u001b[0mn\u001b[0m\u001b[0;34m)\u001b[0m\u001b[0;34m\u001b[0m\u001b[0;34m\u001b[0m\u001b[0m\n\u001b[0;32m----> 2\u001b[0;31m \u001b[0mplt\u001b[0m\u001b[0;34m.\u001b[0m\u001b[0mplot\u001b[0m\u001b[0;34m(\u001b[0m\u001b[0mcts\u001b[0m\u001b[0;34m,\u001b[0m \u001b[0mcap_betas\u001b[0m\u001b[0;34m,\u001b[0m \u001b[0mlabel\u001b[0m\u001b[0;34m=\u001b[0m\u001b[0;34m\"cosine\"\u001b[0m\u001b[0;34m)\u001b[0m\u001b[0;34m\u001b[0m\u001b[0;34m\u001b[0m\u001b[0m\n\u001b[0m\u001b[1;32m      3\u001b[0m \u001b[0mplt\u001b[0m\u001b[0;34m.\u001b[0m\u001b[0mplot\u001b[0m\u001b[0;34m(\u001b[0m\u001b[0mcts\u001b[0m\u001b[0;34m,\u001b[0m \u001b[0mbin_betas\u001b[0m\u001b[0;34m,\u001b[0m \u001b[0mlabel\u001b[0m\u001b[0;34m=\u001b[0m\u001b[0;34m\"bin\"\u001b[0m\u001b[0;34m)\u001b[0m\u001b[0;34m\u001b[0m\u001b[0;34m\u001b[0m\u001b[0m\n\u001b[1;32m      4\u001b[0m \u001b[0mplt\u001b[0m\u001b[0;34m.\u001b[0m\u001b[0mlegend\u001b[0m\u001b[0;34m(\u001b[0m\u001b[0;34m)\u001b[0m\u001b[0;34m\u001b[0m\u001b[0;34m\u001b[0m\u001b[0m\n\u001b[1;32m      5\u001b[0m \u001b[0mplt\u001b[0m\u001b[0;34m.\u001b[0m\u001b[0mshow\u001b[0m\u001b[0;34m(\u001b[0m\u001b[0;34m)\u001b[0m\u001b[0;34m\u001b[0m\u001b[0;34m\u001b[0m\u001b[0m\n",
      "\u001b[0;32m~/anaconda3/lib/python3.7/site-packages/matplotlib/pyplot.py\u001b[0m in \u001b[0;36mplot\u001b[0;34m(scalex, scaley, data, *args, **kwargs)\u001b[0m\n\u001b[1;32m   3019\u001b[0m     return gca().plot(\n\u001b[1;32m   3020\u001b[0m         \u001b[0;34m*\u001b[0m\u001b[0margs\u001b[0m\u001b[0;34m,\u001b[0m \u001b[0mscalex\u001b[0m\u001b[0;34m=\u001b[0m\u001b[0mscalex\u001b[0m\u001b[0;34m,\u001b[0m \u001b[0mscaley\u001b[0m\u001b[0;34m=\u001b[0m\u001b[0mscaley\u001b[0m\u001b[0;34m,\u001b[0m\u001b[0;34m\u001b[0m\u001b[0;34m\u001b[0m\u001b[0m\n\u001b[0;32m-> 3021\u001b[0;31m         **({\"data\": data} if data is not None else {}), **kwargs)\n\u001b[0m\u001b[1;32m   3022\u001b[0m \u001b[0;34m\u001b[0m\u001b[0m\n\u001b[1;32m   3023\u001b[0m \u001b[0;34m\u001b[0m\u001b[0m\n",
      "\u001b[0;32m~/anaconda3/lib/python3.7/site-packages/matplotlib/axes/_axes.py\u001b[0m in \u001b[0;36mplot\u001b[0;34m(self, scalex, scaley, data, *args, **kwargs)\u001b[0m\n\u001b[1;32m   1603\u001b[0m         \"\"\"\n\u001b[1;32m   1604\u001b[0m         \u001b[0mkwargs\u001b[0m \u001b[0;34m=\u001b[0m \u001b[0mcbook\u001b[0m\u001b[0;34m.\u001b[0m\u001b[0mnormalize_kwargs\u001b[0m\u001b[0;34m(\u001b[0m\u001b[0mkwargs\u001b[0m\u001b[0;34m,\u001b[0m \u001b[0mmlines\u001b[0m\u001b[0;34m.\u001b[0m\u001b[0mLine2D\u001b[0m\u001b[0;34m)\u001b[0m\u001b[0;34m\u001b[0m\u001b[0;34m\u001b[0m\u001b[0m\n\u001b[0;32m-> 1605\u001b[0;31m         \u001b[0mlines\u001b[0m \u001b[0;34m=\u001b[0m \u001b[0;34m[\u001b[0m\u001b[0;34m*\u001b[0m\u001b[0mself\u001b[0m\u001b[0;34m.\u001b[0m\u001b[0m_get_lines\u001b[0m\u001b[0;34m(\u001b[0m\u001b[0;34m*\u001b[0m\u001b[0margs\u001b[0m\u001b[0;34m,\u001b[0m \u001b[0mdata\u001b[0m\u001b[0;34m=\u001b[0m\u001b[0mdata\u001b[0m\u001b[0;34m,\u001b[0m \u001b[0;34m**\u001b[0m\u001b[0mkwargs\u001b[0m\u001b[0;34m)\u001b[0m\u001b[0;34m]\u001b[0m\u001b[0;34m\u001b[0m\u001b[0;34m\u001b[0m\u001b[0m\n\u001b[0m\u001b[1;32m   1606\u001b[0m         \u001b[0;32mfor\u001b[0m \u001b[0mline\u001b[0m \u001b[0;32min\u001b[0m \u001b[0mlines\u001b[0m\u001b[0;34m:\u001b[0m\u001b[0;34m\u001b[0m\u001b[0;34m\u001b[0m\u001b[0m\n\u001b[1;32m   1607\u001b[0m             \u001b[0mself\u001b[0m\u001b[0;34m.\u001b[0m\u001b[0madd_line\u001b[0m\u001b[0;34m(\u001b[0m\u001b[0mline\u001b[0m\u001b[0;34m)\u001b[0m\u001b[0;34m\u001b[0m\u001b[0;34m\u001b[0m\u001b[0m\n",
      "\u001b[0;32m~/anaconda3/lib/python3.7/site-packages/matplotlib/axes/_base.py\u001b[0m in \u001b[0;36m__call__\u001b[0;34m(self, data, *args, **kwargs)\u001b[0m\n\u001b[1;32m    313\u001b[0m                 \u001b[0mthis\u001b[0m \u001b[0;34m+=\u001b[0m \u001b[0margs\u001b[0m\u001b[0;34m[\u001b[0m\u001b[0;36m0\u001b[0m\u001b[0;34m]\u001b[0m\u001b[0;34m,\u001b[0m\u001b[0;34m\u001b[0m\u001b[0;34m\u001b[0m\u001b[0m\n\u001b[1;32m    314\u001b[0m                 \u001b[0margs\u001b[0m \u001b[0;34m=\u001b[0m \u001b[0margs\u001b[0m\u001b[0;34m[\u001b[0m\u001b[0;36m1\u001b[0m\u001b[0;34m:\u001b[0m\u001b[0;34m]\u001b[0m\u001b[0;34m\u001b[0m\u001b[0;34m\u001b[0m\u001b[0m\n\u001b[0;32m--> 315\u001b[0;31m             \u001b[0;32myield\u001b[0m \u001b[0;32mfrom\u001b[0m \u001b[0mself\u001b[0m\u001b[0;34m.\u001b[0m\u001b[0m_plot_args\u001b[0m\u001b[0;34m(\u001b[0m\u001b[0mthis\u001b[0m\u001b[0;34m,\u001b[0m \u001b[0mkwargs\u001b[0m\u001b[0;34m)\u001b[0m\u001b[0;34m\u001b[0m\u001b[0;34m\u001b[0m\u001b[0m\n\u001b[0m\u001b[1;32m    316\u001b[0m \u001b[0;34m\u001b[0m\u001b[0m\n\u001b[1;32m    317\u001b[0m     \u001b[0;32mdef\u001b[0m \u001b[0mget_next_color\u001b[0m\u001b[0;34m(\u001b[0m\u001b[0mself\u001b[0m\u001b[0;34m)\u001b[0m\u001b[0;34m:\u001b[0m\u001b[0;34m\u001b[0m\u001b[0;34m\u001b[0m\u001b[0m\n",
      "\u001b[0;32m~/anaconda3/lib/python3.7/site-packages/matplotlib/axes/_base.py\u001b[0m in \u001b[0;36m_plot_args\u001b[0;34m(self, tup, kwargs, return_kwargs)\u001b[0m\n\u001b[1;32m    499\u001b[0m \u001b[0;34m\u001b[0m\u001b[0m\n\u001b[1;32m    500\u001b[0m         \u001b[0;32mif\u001b[0m \u001b[0mx\u001b[0m\u001b[0;34m.\u001b[0m\u001b[0mshape\u001b[0m\u001b[0;34m[\u001b[0m\u001b[0;36m0\u001b[0m\u001b[0;34m]\u001b[0m \u001b[0;34m!=\u001b[0m \u001b[0my\u001b[0m\u001b[0;34m.\u001b[0m\u001b[0mshape\u001b[0m\u001b[0;34m[\u001b[0m\u001b[0;36m0\u001b[0m\u001b[0;34m]\u001b[0m\u001b[0;34m:\u001b[0m\u001b[0;34m\u001b[0m\u001b[0;34m\u001b[0m\u001b[0m\n\u001b[0;32m--> 501\u001b[0;31m             raise ValueError(f\"x and y must have same first dimension, but \"\n\u001b[0m\u001b[1;32m    502\u001b[0m                              f\"have shapes {x.shape} and {y.shape}\")\n\u001b[1;32m    503\u001b[0m         \u001b[0;32mif\u001b[0m \u001b[0mx\u001b[0m\u001b[0;34m.\u001b[0m\u001b[0mndim\u001b[0m \u001b[0;34m>\u001b[0m \u001b[0;36m2\u001b[0m \u001b[0;32mor\u001b[0m \u001b[0my\u001b[0m\u001b[0;34m.\u001b[0m\u001b[0mndim\u001b[0m \u001b[0;34m>\u001b[0m \u001b[0;36m2\u001b[0m\u001b[0;34m:\u001b[0m\u001b[0;34m\u001b[0m\u001b[0;34m\u001b[0m\u001b[0m\n",
      "\u001b[0;31mValueError\u001b[0m: x and y must have same first dimension, but have shapes (100,) and (0,)"
     ]
    },
    {
     "data": {
      "image/png": "[encoded data removed]",
      "text/plain": [
       "<Figure size 432x288 with 1 Axes>"
      ]
     },
     "metadata": {
      "needs_background": "light"
     },
     "output_type": "display_data"
    }
   ],
   "source": [
    "cts = hamm_to_cosine(hamm_distances, n)\n",
    "plt.plot(cts, cap_betas, label=\"cosine\")\n",
    "plt.plot(cts, bin_betas, label=\"bin\")\n",
    "plt.legend()\n",
    "plt.show()"
   ]
  },
  {
   "cell_type": "code",
   "execution_count": 119,
   "id": "dec5d47f-cdb0-495e-9f00-e568cf89283a",
   "metadata": {},
   "outputs": [
    {
     "data": {
      "image/png": "[encoded data removed]",
      "text/plain": [
       "<Figure size 432x288 with 1 Axes>"
      ]
     },
     "metadata": {
      "needs_background": "light"
     },
     "output_type": "display_data"
    }
   ],
   "source": [
    "cts = hamm_to_cosine(hamm_distances, n)\n",
    "plt.plot(cts, cap_betas, label=\"cosine\")\n",
    "plt.plot(cts, bin_betas, label=\"bin\")\n",
    "plt.legend()\n",
    "plt.show()"
   ]
  },
  {
   "cell_type": "code",
   "execution_count": 123,
   "id": "7a5322f9-4923-488a-ad77-07955e37c6e0",
   "metadata": {},
   "outputs": [
    {
     "name": "stdout",
     "output_type": "stream",
     "text": [
      "slope and bias 8.347682387066936 -0.643745354287601\n"
     ]
    },
    {
     "data": {
      "image/png": "[encoded data removed]",
      "text/plain": [
       "<Figure size 432x288 with 1 Axes>"
      ]
     },
     "metadata": {
      "needs_background": "light"
     },
     "output_type": "display_data"
    }
   ],
   "source": [
    "cts = hamm_to_cosine(hamm_distances, n)\n",
    "cut_ind = 30\n",
    "\n",
    "slope, bias = fit_beta_regression(n, cts[:cut_ind], cap_betas[:cut_ind], return_bias=True, ham_input=False)\n",
    "print(\"slope and bias\", slope, bias)\n",
    "plt.plot(cts, cap_betas, label=\"cosine\")\n",
    "#plt.plot(cts, bin_betas, label=\"bin\")\n",
    "\n",
    "plt.plot(cts, np.exp(slope*cts+bias), label=\"fit\")\n",
    "plt.xlabel(\"cosine threshold\")\n",
    "plt.ylabel(\"beta value\")\n",
    "plt.legend()\n",
    "plt.show()"
   ]
  },
  {
   "cell_type": "code",
   "execution_count": 124,
   "id": "907f1b07-7fee-4bb7-af36-06c9da096b41",
   "metadata": {},
   "outputs": [
    {
     "data": {
      "image/png": "[encoded data removed]",
      "text/plain": [
       "<Figure size 432x288 with 1 Axes>"
      ]
     },
     "metadata": {
      "needs_background": "light"
     },
     "output_type": "display_data"
    }
   ],
   "source": [
    "plt.plot(cts, 1/np.sqrt(np.exp(slope*cts+bias)), label=\"fit\")\n",
    "plt.xlabel(\"cosine threshold\")\n",
    "plt.ylabel(\"beta value\")\n",
    "plt.legend()\n",
    "plt.show()"
   ]
  },
  {
   "cell_type": "code",
   "execution_count": null,
   "id": "d97d66e2-d958-4179-b229-e2436c615696",
   "metadata": {},
   "outputs": [],
   "source": []
  }
 ],
 "metadata": {
  "kernelspec": {
   "display_name": "Python 3 (ipykernel)",
   "language": "python",
   "name": "python3"
  },
  "language_info": {
   "codemirror_mode": {
    "name": "ipython",
    "version": 3
   },
   "file_extension": ".py",
   "mimetype": "text/x-python",
   "name": "python",
   "nbconvert_exporter": "python",
   "pygments_lexer": "ipython3",
   "version": "3.7.12"
  }
 },
 "nbformat": 4,
 "nbformat_minor": 5
}
