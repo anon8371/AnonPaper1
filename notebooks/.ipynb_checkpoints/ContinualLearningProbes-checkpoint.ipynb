{
 "cells": [
  {
   "cell_type": "markdown",
   "metadata": {},
   "source": [
    "Probing deeper into continual learning and subnetwork formation. \n",
    "\n",
    "Most importantly, why does pretraining on CIFAR10 labels for ImageNet fail while pretraining on ImageNet or CIFAR10 directly work so well? "
   ]
  },
  {
   "cell_type": "code",
   "execution_count": 1,
   "metadata": {},
   "outputs": [],
   "source": [
    "%load_ext autoreload\n",
    "%autoreload 2\n",
    "%matplotlib inline\n",
    "import torch \n",
    "import numpy as np\n",
    "from PIL import Image\n",
    "from torchvision import transforms\n",
    "import pandas as pd \n",
    "import json \n",
    "import copy \n",
    "import pickle \n",
    "import os \n",
    "import sys\n",
    "import wandb\n",
    "from pytorch_lightning.loggers import WandbLogger\n",
    "from types import SimpleNamespace\n",
    "import matplotlib.pyplot as plt\n",
    "module_path = os.path.abspath(os.path.join('..'))\n",
    "if module_path not in sys.path:\n",
    "    sys.path.append(module_path)\n",
    "sys.path.append('../py_scripts')\n",
    "from py_scripts import LightningDataModule, get_params_net_dataloader, ModelStyles, DataSet"
   ]
  },
  {
   "cell_type": "code",
   "execution_count": 171,
   "metadata": {},
   "outputs": [
    {
     "name": "stdout",
     "output_type": "stream",
     "text": [
      "LOADING IN A MODEL!!!\n",
      "Final params being used namespace(act_func=ReLU(), act_string='ReLU()', active_threshold=0.0001, adamw_l2_loss_weight=0.001, adversarial_attack_norm=inf, adversarial_attacks=True, adversarial_max_distortion=0.03, all_positive_weights=False, apply_cnn_layer=False, batch_size=64, block_granule_neurons=1000, can_enforce_positive_weights_on_bias_terms=True, check_val_every_n_epoch=1, classification=True, cnn_kern_size=4, cnn_nfilters=128, cnn_padding=0, cnn_relu=True, cnn_stride=None, continual_learning=False, count_dead_train_neurons=True, dataset=<DataSet.ImageNet32_CIFAR10_LABELS: 4>, dataset_str='ImageNet32_CIFAR10_LABELS', device=device(type='cuda'), dropout_prob=0.0, early_stopping=False, epochs_to_train_for=20, epochs_to_train_for_per_dataset=0, force_grayscale=False, gradient_clip=100, granule_sparsity_percentage=None, hoyer_weight=0.0, img_dim=32, input_size=3072, jitter=0.1, k_approach='GABA_SWITCH', k_max=10000, k_min=10, k_transition_epochs_to_train_for=100, l1_growth_rate=None, l1_loss_weight=None, l1_max_val=0.3, l2_loss_weight=None, label_iter=range(0, 10), learn_addresses=True, load_from_checkpoint='../experiments/ContLearningStarters/SDM_10K_MoreTraining_ContLearning_ImageNet_CIFAR10', load_path='experiments/ContLearningStarters/SDM_10K_BaseModelImageNet32_CIFAR10_LABELS', log_adversarial_attack_every_n_epochs_to_train_for=10, log_metrics=False, log_receptive_fields=True, log_receptive_fields_every_n_epochs_to_train_for=10, lr=0.03, model_foundation=<class 'models.SDM.SDM'>, model_style=<ModelStyles.SDM: 6>, nblocks=1, nchannels=3, nclasses=10, nneurons=10000, norm_addresses=True, norm_values=False, normalize_n_transform_inputs=False, npurkinje=100, num_activations_for_gaba_switch=10000000, num_adversarial_attack_example_imgs=1, num_receptive_field_imgs=10, num_task_attempt_imgs=1, num_workers=1, opt='SGDM', output_size=10, pgd_step_iters=40, pgd_step_size=0.01, print_every=False, purkinje_layer=False, ra_m=8, ra_n=1, load_existing_optimizer_state=True, relu_exponent=None, reprob=0.25, scale=0.75, sgdm_momentum=0.9, smallest_class_number=None, sparsity_threshold=0.0001, svdo=False, svdo_kl_weight=0.0, test_description='All default settings.', test_name='SDM_10K_MoreTraining_ContLearning_ImageNet_CIFAR10', top_k_linear_decay=False, unique_weight_init=False, use_bias=False, use_convmixer_transforms=False, use_gaba_switch=True, use_top_k=True, validation_neuron_logger=True)\n",
      "Setting continual learning False\n",
      "!!! Loading in model with checkpoint saved parameters!!!\n",
      "Number of unique parameters trained in the model 2\n",
      "Number of non zero weights is: tensor(30819987)\n"
     ]
    }
   ],
   "source": [
    "# load in the model\n",
    "\n",
    "device = torch.device(\"cuda\" if torch.cuda.is_available() else \"cpu\")\n",
    "\n",
    "load_path = \"../experiments/ContLearningStarters/SDM_10K_MoreTraining_ContLearning_ImageNet_CIFAR10\"\n",
    "\n",
    "checkpoint = torch.load(load_path, map_location=device)\n",
    "params = checkpoint['hyper_parameters']\n",
    "params = SimpleNamespace(**params)\n",
    "\n",
    "extras = dict(\n",
    "    epochs_to_train_for=10,\n",
    "    num_workers=1, \n",
    "    adversarial_attacks=True, \n",
    "    device=device,\n",
    "    dataset_path=\"../data/\", \n",
    "    log_metrics=False  ,\n",
    "    check_val_every_n_epoch=1,\n",
    ")\n",
    "\n",
    "if \"FFN\" in load_path:\n",
    "    extras['use_top_k'] =False\n",
    "    params.nneurons = 1000\n",
    "\n",
    "params.dataset = DataSet.CIFAR10\n",
    "\n",
    "if load_path:\n",
    "    print(\"LOADING IN A MODEL!!!\")\n",
    "\n",
    "params, model, data_module = get_params_net_dataloader(params.model_style, params.dataset, \n",
    "                                                       load_from_checkpoint=load_path, **extras)\n",
    "\n",
    "model = model.to(device)\n",
    "model.eval()\n",
    "model.curr_ep = checkpoint['epoch']\n"
   ]
  },
  {
   "cell_type": "code",
   "execution_count": 172,
   "metadata": {},
   "outputs": [],
   "source": [
    "model.top_k.neuron_activation_counters = model.top_k.neuron_activation_counters.to(device)"
   ]
  },
  {
   "cell_type": "code",
   "execution_count": 173,
   "metadata": {},
   "outputs": [
    {
     "name": "stdout",
     "output_type": "stream",
     "text": [
      "DATALOADER SETUP() CALLED, CONTINUAL LEARNING: False\n",
      "RELOADING VAL DATALOADER\n"
     ]
    }
   ],
   "source": [
    "# run model through the test dataset\n",
    "data_module.setup(None)\n",
    "val_loader = data_module.val_dataloader()"
   ]
  },
  {
   "cell_type": "code",
   "execution_count": 174,
   "metadata": {},
   "outputs": [],
   "source": [
    "label_activations = torch.zeros((10, params.nneurons))\n",
    "overall_activations = torch.zeros(params.nneurons) \n",
    "for dind, d in enumerate(val_loader):\n",
    "    x, y = d\n",
    "    x, y = x.to(device), y.to(device)\n",
    "    x = x.flatten(start_dim=1)\n",
    "\n",
    "    # l2 norm the input data\n",
    "    if params.norm_addresses:\n",
    "        x = x / torch.norm(x, dim=1, keepdim=True)\n",
    "\n",
    "    x = model.fc1(x)\n",
    "    if \"FFN\" in load_path: \n",
    "        x = torch.nn.ReLU()(x)\n",
    "    else: \n",
    "        x = model.top_k(x)\n",
    "    \n",
    "    overall_activations += torch.where(x!=0, 1, 0).sum(0).cpu()\n",
    "\n",
    "    #active_neuron_inds = torch.where(x!=0, 1, 0)\n",
    "    \n",
    "    for ind in range(len(y)):\n",
    "        label_activations[int(y[ind].cpu().numpy())] += torch.where(x[ind]!=0, 1, 0).cpu()\n",
    "    \n",
    "    # ok now record what neurons are active and for what label. "
   ]
  },
  {
   "cell_type": "code",
   "execution_count": 175,
   "metadata": {},
   "outputs": [],
   "source": [
    "# sanity check:\n",
    "summer = label_activations.sum(0)\n",
    "assert bool((summer != overall_activations).sum().cpu()) == 0, \"There is something wrong\"\n"
   ]
  },
  {
   "cell_type": "code",
   "execution_count": 176,
   "metadata": {},
   "outputs": [
    {
     "name": "stdout",
     "output_type": "stream",
     "text": [
      "Number of neurons that are never activated for this input label\n",
      "0 tensor(5222) percentage tensor(0.5222)\n",
      "0 tensor(8928) percentage tensor(0.8928)\n",
      "=====\n",
      "1 tensor(4694) percentage tensor(0.4694)\n",
      "1 tensor(8971) percentage tensor(0.8971)\n",
      "=====\n",
      "2 tensor(4050) percentage tensor(0.4050)\n",
      "2 tensor(8921) percentage tensor(0.8921)\n",
      "=====\n",
      "3 tensor(4138) percentage tensor(0.4138)\n",
      "3 tensor(9006) percentage tensor(0.9006)\n",
      "=====\n",
      "4 tensor(4214) percentage tensor(0.4214)\n",
      "4 tensor(8940) percentage tensor(0.8940)\n",
      "=====\n",
      "5 tensor(4291) percentage tensor(0.4291)\n",
      "5 tensor(8971) percentage tensor(0.8971)\n",
      "=====\n",
      "6 tensor(4912) percentage tensor(0.4912)\n",
      "6 tensor(8908) percentage tensor(0.8908)\n",
      "=====\n",
      "7 tensor(4322) percentage tensor(0.4322)\n",
      "7 tensor(8978) percentage tensor(0.8978)\n",
      "=====\n",
      "8 tensor(5494) percentage tensor(0.5494)\n",
      "8 tensor(8933) percentage tensor(0.8933)\n",
      "=====\n",
      "9 tensor(4893) percentage tensor(0.4893)\n",
      "9 tensor(8997) percentage tensor(0.8997)\n",
      "=====\n"
     ]
    }
   ],
   "source": [
    "print(\"Number of neurons that are never activated for this input label\")\n",
    "for i in range(10):\n",
    "    print(i, (label_activations[i]==0).sum(), \"percentage\", (label_activations[i]==0).sum()/len(label_activations[i]))\n",
    "    print(i, (label_activations[i]<10).sum(), \"percentage\", (label_activations[i]<10).sum()/len(label_activations[i]))\n",
    "    print(\"=====\")\n"
   ]
  },
  {
   "cell_type": "code",
   "execution_count": 177,
   "metadata": {},
   "outputs": [
    {
     "data": {
      "text/plain": [
       "array([[1.00003409, 0.911524  , 0.89521927, 0.86030442, 0.83913291,\n",
       "        0.83420426, 0.78585029, 0.87875807, 0.93883574, 0.88235235],\n",
       "       [0.91152388, 1.00004554, 0.88708103, 0.90588874, 0.86285114,\n",
       "        0.88858449, 0.85752034, 0.91515243, 0.93400782, 0.95432013],\n",
       "       [0.89521921, 0.88708115, 1.00004411, 0.96457696, 0.98435462,\n",
       "        0.9548496 , 0.95829928, 0.95841098, 0.81963122, 0.82731783],\n",
       "       [0.86030447, 0.90588874, 0.96457696, 1.00004721, 0.96595895,\n",
       "        0.989676  , 0.96200359, 0.96799189, 0.80629021, 0.83818382],\n",
       "       [0.83913285, 0.86285108, 0.9843545 , 0.96595883, 1.00004232,\n",
       "        0.96217144, 0.97627866, 0.95769346, 0.76721978, 0.79388368],\n",
       "       [0.83420432, 0.88858455, 0.9548496 , 0.98967594, 0.96217144,\n",
       "        1.00004339, 0.96205574, 0.94807094, 0.79017872, 0.80063856],\n",
       "       [0.78585035, 0.85752052, 0.95829934, 0.96200365, 0.97627878,\n",
       "        0.9620558 , 1.00003815, 0.93733835, 0.7327897 , 0.78425115],\n",
       "       [0.87875801, 0.91515249, 0.95841104, 0.96799189, 0.95769346,\n",
       "        0.94807094, 0.93733829, 1.00004494, 0.83111721, 0.89578617],\n",
       "       [0.93883562, 0.93400782, 0.81963116, 0.80629027, 0.76721978,\n",
       "        0.79017866, 0.73278975, 0.83111721, 1.00003481, 0.91797173],\n",
       "       [0.88235241, 0.95432019, 0.82731789, 0.83818382, 0.79388356,\n",
       "        0.8006385 , 0.78425109, 0.89578605, 0.91797173, 1.0000416 ]])"
      ]
     },
     "execution_count": 177,
     "metadata": {},
     "output_type": "execute_result"
    }
   ],
   "source": [
    "# correlation matrix between each of these? \n",
    "res = np.zeros((10,10))\n",
    "for i in range(10):\n",
    "    for j in range(10):\n",
    "        res[i,j] = label_activations[i]/torch.norm(label_activations[i])@label_activations[j]/torch.norm(label_activations[j])\n",
    "        #print(i, j, label_activations[i]/torch.norm(label_activations[i])@label_activations[j]/torch.norm(label_activations[j]))\n",
    "res"
   ]
  },
  {
   "cell_type": "code",
   "execution_count": 178,
   "metadata": {},
   "outputs": [
    {
     "data": {
      "text/plain": [
       "<matplotlib.image.AxesImage at 0x7f5abdfb8100>"
      ]
     },
     "execution_count": 178,
     "metadata": {},
     "output_type": "execute_result"
    },
    {
     "data": {
      "image/png": "[encoded data removed]",
      "text/plain": [
       "<Figure size 432x288 with 1 Axes>"
      ]
     },
     "metadata": {
      "needs_background": "light"
     },
     "output_type": "display_data"
    }
   ],
   "source": [
    "plt.imshow(res, interpolation='nearest')"
   ]
  },
  {
   "cell_type": "code",
   "execution_count": 161,
   "metadata": {},
   "outputs": [
    {
     "data": {
      "text/plain": [
       "tensor([[0., 0., 0.,  ..., 0., 3., 0.],\n",
       "        [0., 0., 0.,  ..., 0., 0., 0.],\n",
       "        [0., 5., 3.,  ..., 1., 1., 0.],\n",
       "        ...,\n",
       "        [0., 0., 0.,  ..., 0., 0., 0.],\n",
       "        [0., 0., 0.,  ..., 0., 0., 0.],\n",
       "        [0., 0., 0.,  ..., 0., 0., 0.]])"
      ]
     },
     "execution_count": 161,
     "metadata": {},
     "output_type": "execute_result"
    }
   ],
   "source": [
    "label_activations"
   ]
  },
  {
   "cell_type": "code",
   "execution_count": 123,
   "metadata": {},
   "outputs": [
    {
     "data": {
      "text/plain": [
       "<matplotlib.image.AxesImage at 0x7f5ad0245fd0>"
      ]
     },
     "execution_count": 123,
     "metadata": {},
     "output_type": "execute_result"
    },
    {
     "data": {
      "image/png": "[encoded data removed]",
      "text/plain": [
       "<Figure size 1000x1000 with 1 Axes>"
      ]
     },
     "metadata": {
      "needs_background": "light"
     },
     "output_type": "display_data"
    }
   ],
   "source": [
    "plt.figure(figsize=(10, 10), dpi=100)\n",
    "plt.imshow(label_activations)"
   ]
  },
  {
   "cell_type": "code",
   "execution_count": 179,
   "metadata": {},
   "outputs": [
    {
     "data": {
      "text/plain": [
       "(array([8.928e+03, 2.630e+02, 1.240e+02, 7.700e+01, 6.100e+01, 4.900e+01,\n",
       "        2.300e+01, 2.400e+01, 1.900e+01, 2.400e+01, 2.400e+01, 2.100e+01,\n",
       "        9.000e+00, 1.600e+01, 1.100e+01, 1.500e+01, 8.000e+00, 1.300e+01,\n",
       "        1.200e+01, 1.300e+01, 1.300e+01, 8.000e+00, 1.200e+01, 7.000e+00,\n",
       "        8.000e+00, 1.100e+01, 3.000e+00, 1.000e+01, 3.000e+00, 8.000e+00,\n",
       "        7.000e+00, 6.000e+00, 5.000e+00, 4.000e+00, 2.000e+00, 7.000e+00,\n",
       "        6.000e+00, 8.000e+00, 5.000e+00, 6.000e+00, 1.000e+01, 4.000e+00,\n",
       "        3.000e+00, 3.000e+00, 2.000e+00, 7.000e+00, 5.000e+00, 4.000e+00,\n",
       "        3.000e+00, 5.000e+00, 7.000e+00, 2.000e+00, 2.000e+00, 2.000e+00,\n",
       "        4.000e+00, 1.000e+00, 1.000e+00, 3.000e+00, 2.000e+00, 3.000e+00,\n",
       "        5.000e+00, 2.000e+00, 3.000e+00, 2.000e+00, 3.000e+00, 2.000e+00,\n",
       "        3.000e+00, 2.000e+00, 2.000e+00, 0.000e+00, 0.000e+00, 1.000e+00,\n",
       "        2.000e+00, 2.000e+00, 1.000e+00, 1.000e+00, 2.000e+00, 3.000e+00,\n",
       "        1.000e+00, 1.000e+00, 0.000e+00, 1.000e+00, 0.000e+00, 2.000e+00,\n",
       "        1.000e+00, 1.000e+00, 0.000e+00, 0.000e+00, 0.000e+00, 0.000e+00,\n",
       "        1.000e+00, 3.000e+00, 0.000e+00, 0.000e+00, 2.000e+00, 0.000e+00,\n",
       "        0.000e+00, 2.000e+00, 0.000e+00, 3.000e+00]),\n",
       " array([  0.  ,   9.87,  19.74,  29.61,  39.48,  49.35,  59.22,  69.09,\n",
       "         78.96,  88.83,  98.7 , 108.57, 118.44, 128.31, 138.18, 148.05,\n",
       "        157.92, 167.79, 177.66, 187.53, 197.4 , 207.27, 217.14, 227.01,\n",
       "        236.88, 246.75, 256.62, 266.49, 276.36, 286.23, 296.1 , 305.97,\n",
       "        315.84, 325.71, 335.58, 345.45, 355.32, 365.19, 375.06, 384.93,\n",
       "        394.8 , 404.67, 414.54, 424.41, 434.28, 444.15, 454.02, 463.89,\n",
       "        473.76, 483.63, 493.5 , 503.37, 513.24, 523.11, 532.98, 542.85,\n",
       "        552.72, 562.59, 572.46, 582.33, 592.2 , 602.07, 611.94, 621.81,\n",
       "        631.68, 641.55, 651.42, 661.29, 671.16, 681.03, 690.9 , 700.77,\n",
       "        710.64, 720.51, 730.38, 740.25, 750.12, 759.99, 769.86, 779.73,\n",
       "        789.6 , 799.47, 809.34, 819.21, 829.08, 838.95, 848.82, 858.69,\n",
       "        868.56, 878.43, 888.3 , 898.17, 908.04, 917.91, 927.78, 937.65,\n",
       "        947.52, 957.39, 967.26, 977.13, 987.  ], dtype=float32),\n",
       " <a list of 100 Patch objects>)"
      ]
     },
     "execution_count": 179,
     "metadata": {},
     "output_type": "execute_result"
    },
    {
     "data": {
      "image/png": "[encoded data removed]",
      "text/plain": [
       "<Figure size 432x288 with 1 Axes>"
      ]
     },
     "metadata": {
      "needs_background": "light"
     },
     "output_type": "display_data"
    }
   ],
   "source": [
    "# distribution for a given label\n",
    "plt.hist(label_activations[0],bins=100)\n"
   ]
  },
  {
   "cell_type": "code",
   "execution_count": 180,
   "metadata": {},
   "outputs": [
    {
     "name": "stdout",
     "output_type": "stream",
     "text": [
      "max tensor(9896.)\n"
     ]
    },
    {
     "data": {
      "image/png": "[encoded data removed]",
      "text/plain": [
       "<Figure size 432x288 with 1 Axes>"
      ]
     },
     "metadata": {
      "needs_background": "light"
     },
     "output_type": "display_data"
    }
   ],
   "source": [
    "# number of times each neuron is active across all labels\n",
    "# there is a neuron that is almost active for every single input (validation)\n",
    "# almost all neurons are active for only a very small subset of the inputs. \n",
    "print(\"max\", label_activations.sum(0).max())\n",
    "#\n",
    "plt.hist(label_activations.sum(0),bins=300)\n",
    "plt.show()"
   ]
  },
  {
   "cell_type": "code",
   "execution_count": 181,
   "metadata": {},
   "outputs": [],
   "source": [
    "#label_activations[0], label_activations[9]"
   ]
  },
  {
   "cell_type": "code",
   "execution_count": 182,
   "metadata": {},
   "outputs": [
    {
     "name": "stdout",
     "output_type": "stream",
     "text": [
      "dead neurons for validation set: tensor(344)\n"
     ]
    }
   ],
   "source": [
    "print(\"dead neurons for validation set:\", (label_activations.sum(0) ==0).sum() )"
   ]
  },
  {
   "cell_type": "code",
   "execution_count": 183,
   "metadata": {},
   "outputs": [
    {
     "data": {
      "image/png": "[encoded data removed]",
      "text/plain": [
       "<Figure size 432x288 with 1 Axes>"
      ]
     },
     "metadata": {
      "needs_background": "light"
     },
     "output_type": "display_data"
    },
    {
     "data": {
      "image/png": "[encoded data removed]",
      "text/plain": [
       "<Figure size 432x288 with 1 Axes>"
      ]
     },
     "metadata": {
      "needs_background": "light"
     },
     "output_type": "display_data"
    },
    {
     "data": {
      "image/png": "[encoded data removed]",
      "text/plain": [
       "<Figure size 432x288 with 1 Axes>"
      ]
     },
     "metadata": {
      "needs_background": "light"
     },
     "output_type": "display_data"
    }
   ],
   "source": [
    "# neuron polysemantism.\n",
    "polysemantism = (label_activations>0).sum(0)\n",
    "plt.hist(polysemantism,bins=10)\n",
    "plt.show()\n",
    "\n",
    "polysemantism = (label_activations>1).sum(0)\n",
    "plt.hist(polysemantism,bins=10)\n",
    "plt.show()\n",
    "\n",
    "polysemantism = (label_activations>10).sum(0)\n",
    "plt.hist(polysemantism,bins=10)\n",
    "plt.show()"
   ]
  },
  {
   "cell_type": "code",
   "execution_count": null,
   "metadata": {},
   "outputs": [],
   "source": []
  }
 ],
 "metadata": {
  "kernelspec": {
   "display_name": "Python 3",
   "language": "python",
   "name": "python3"
  },
  "language_info": {
   "codemirror_mode": {
    "name": "ipython",
    "version": 3
   },
   "file_extension": ".py",
   "mimetype": "text/x-python",
   "name": "python",
   "nbconvert_exporter": "python",
   "pygments_lexer": "ipython3",
   "version": "3.8.3"
  }
 },
 "nbformat": 4,
 "nbformat_minor": 4
}
