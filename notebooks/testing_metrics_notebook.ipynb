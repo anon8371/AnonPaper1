{
 "cells": [
  {
   "cell_type": "code",
   "execution_count": 1,
   "metadata": {},
   "outputs": [
    {
     "ename": "SyntaxError",
     "evalue": "invalid syntax (Microzones.py, line 63)",
     "output_type": "error",
     "traceback": [
      "Traceback \u001b[0;36m(most recent call last)\u001b[0m:\n",
      "  File \u001b[1;32m\"/Users/trentonbricken/anaconda3/lib/python3.7/site-packages/IPython/core/interactiveshell.py\"\u001b[0m, line \u001b[1;32m3343\u001b[0m, in \u001b[1;35mrun_code\u001b[0m\n    exec(code_obj, self.user_global_ns, self.user_ns)\n",
      "  File \u001b[1;32m\"<ipython-input-1-46937aef6a1b>\"\u001b[0m, line \u001b[1;32m12\u001b[0m, in \u001b[1;35m<module>\u001b[0m\n    from py_scripts import MNISTDataModule, get_params_net_dataloader, ModelStyles, DataSet\n",
      "  File \u001b[1;32m\"/Users/trentonbricken/Foundational-SDM/py_scripts/__init__.py\"\u001b[0m, line \u001b[1;32m3\u001b[0m, in \u001b[1;35m<module>\u001b[0m\n    from .params import *\n",
      "  File \u001b[1;32m\"/Users/trentonbricken/Foundational-SDM/py_scripts/params.py\"\u001b[0m, line \u001b[1;32m6\u001b[0m, in \u001b[1;35m<module>\u001b[0m\n    from models import DEEP_SDM, SDM_FFN, AlexNet, Product_Keys, ProductKeys\n",
      "\u001b[0;36m  File \u001b[0;32m\"/Users/trentonbricken/Foundational-SDM/models/__init__.py\"\u001b[0;36m, line \u001b[0;32m7\u001b[0;36m, in \u001b[0;35m<module>\u001b[0;36m\u001b[0m\n\u001b[0;31m    from .Microzones import Microzones\u001b[0m\n",
      "\u001b[0;36m  File \u001b[0;32m\"/Users/trentonbricken/Foundational-SDM/models/Microzones.py\"\u001b[0;36m, line \u001b[0;32m63\u001b[0m\n\u001b[0;31m    x =\u001b[0m\n\u001b[0m        ^\u001b[0m\n\u001b[0;31mSyntaxError\u001b[0m\u001b[0;31m:\u001b[0m invalid syntax\n"
     ]
    }
   ],
   "source": [
    "%load_ext autoreload\n",
    "%autoreload 2\n",
    "\n",
    "# imports\n",
    "import os\n",
    "import sys\n",
    "module_path = os.path.abspath(os.path.join('..'))\n",
    "if module_path not in sys.path:\n",
    "    sys.path.append(module_path)\n",
    "sys.path.append('../py_scripts')\n",
    "import matplotlib.pyplot as plt\n",
    "from py_scripts import MNISTDataModule, get_params_net_dataloader, ModelStyles, DataSet\n",
    "import pytorch_lightning as pl\n",
    "\n",
    "import wandb\n",
    "import torch \n",
    "from pytorch_lightning.loggers import WandbLogger\n",
    "import numpy as np\n",
    "\n",
    "# gpu check\n",
    "!nvidia-smi"
   ]
  },
  {
   "cell_type": "code",
   "execution_count": 4,
   "metadata": {},
   "outputs": [
    {
     "data": {
      "text/plain": [
       "torch.Size([1000, 10, 10])"
      ]
     },
     "execution_count": 4,
     "metadata": {},
     "output_type": "execute_result"
    }
   ],
   "source": [
    "import torch \n",
    "lol = torch.randn((1000, 10000)) # 1000 d input and 10000 into 10 layers of 1000 each\n",
    "\n",
    "v, i = torch.topk(lol.view(1000, 10, 1000), k=10, dim=-1)\n",
    "v.shape"
   ]
  },
  {
   "cell_type": "code",
   "execution_count": 51,
   "metadata": {},
   "outputs": [
    {
     "data": {
      "text/plain": [
       "torch.Size([10000, 1])"
      ]
     },
     "execution_count": 51,
     "metadata": {},
     "output_type": "execute_result"
    }
   ],
   "source": [
    "lolz = torch.nn.Linear( 1000, 10000)\n",
    "vals, inds = lolz.weight.min(dim=1, keepdim=True)\n",
    "inds.shape"
   ]
  },
  {
   "cell_type": "code",
   "execution_count": 52,
   "metadata": {},
   "outputs": [],
   "source": [
    "top_k_mask = torch.ones_like(lolz.weight)\n",
    "top_k_mask = top_k_mask.scatter(1, inds, 0)"
   ]
  },
  {
   "cell_type": "code",
   "execution_count": 53,
   "metadata": {},
   "outputs": [
    {
     "data": {
      "text/plain": [
       "tensor([319])"
      ]
     },
     "execution_count": 53,
     "metadata": {},
     "output_type": "execute_result"
    }
   ],
   "source": [
    "inds[0]"
   ]
  },
  {
   "cell_type": "code",
   "execution_count": 56,
   "metadata": {},
   "outputs": [
    {
     "data": {
      "text/plain": [
       "tensor([0.])"
      ]
     },
     "execution_count": 56,
     "metadata": {},
     "output_type": "execute_result"
    }
   ],
   "source": [
    "top_k_mask[0, inds[0]]"
   ]
  },
  {
   "cell_type": "code",
   "execution_count": 55,
   "metadata": {},
   "outputs": [
    {
     "data": {
      "text/plain": [
       "tensor([1., 1., 1., 1., 1., 1., 1., 1., 1., 1., 1., 1., 1., 1., 1., 1., 1., 1.,\n",
       "        1., 1., 1., 1., 1., 1., 1., 1., 1., 1., 1., 1., 1., 1., 1., 1., 1., 1.,\n",
       "        1., 1., 1., 1., 1., 1., 1., 1., 1., 1., 1., 1., 1., 1., 1., 1., 1., 1.,\n",
       "        1., 1., 1., 1., 1., 1., 1., 1., 1., 1., 1., 1., 1., 1., 1., 1., 1., 1.,\n",
       "        1., 1., 1., 1., 1., 1., 1., 1., 1., 1., 1., 1., 1., 1., 1., 1., 1., 1.,\n",
       "        1., 1., 1., 1., 1., 1., 1., 1., 1., 1., 1., 1., 1., 1., 1., 1., 1., 1.,\n",
       "        1., 1., 1., 1., 1., 1., 1., 1., 1., 1., 1., 1., 1., 1., 1., 1., 1., 1.,\n",
       "        1., 1., 1., 1., 1., 1., 1., 1., 1., 1., 1., 1., 1., 1., 1., 1., 1., 1.,\n",
       "        1., 1., 1., 1., 1., 1., 1., 1., 1., 1., 1., 1., 1., 1., 1., 1., 1., 1.,\n",
       "        1., 1., 1., 1., 1., 1., 1., 1., 1., 1., 1., 1., 1., 1., 1., 1., 1., 1.,\n",
       "        1., 1., 1., 1., 1., 1., 1., 1., 1., 1., 1., 1., 1., 1., 1., 1., 1., 1.,\n",
       "        1., 1., 1., 1., 1., 1., 1., 1., 1., 1., 1., 1., 1., 1., 1., 1., 1., 1.,\n",
       "        1., 1., 1., 1., 1., 1., 1., 1., 1., 1., 1., 1., 1., 1., 1., 1., 1., 1.,\n",
       "        1., 1., 1., 1., 1., 1., 1., 1., 1., 1., 1., 1., 1., 1., 1., 1., 1., 1.,\n",
       "        1., 1., 1., 1., 1., 1., 1., 1., 1., 1., 1., 1., 1., 1., 1., 1., 1., 1.,\n",
       "        1., 1., 1., 1., 1., 1., 1., 1., 1., 1., 1., 1., 1., 1., 1., 1., 1., 1.,\n",
       "        1., 1., 1., 1., 1., 1., 1., 1., 1., 1., 1., 1., 1., 1., 1., 1., 1., 1.,\n",
       "        1., 1., 1., 1., 1., 1., 1., 1., 1., 1., 1., 1., 1., 0., 1., 1., 1., 1.,\n",
       "        1., 1., 1., 1., 1., 1., 1., 1., 1., 1., 1., 1., 1., 1., 1., 1., 1., 1.,\n",
       "        1., 1., 1., 1., 1., 1., 1., 1., 1., 1., 1., 1., 1., 1., 1., 1., 1., 1.,\n",
       "        1., 1., 1., 1., 1., 1., 1., 1., 1., 1., 1., 1., 1., 1., 1., 1., 1., 1.,\n",
       "        1., 1., 1., 1., 1., 1., 1., 1., 1., 1., 1., 1., 1., 1., 1., 1., 1., 1.,\n",
       "        1., 1., 1., 1., 1., 1., 1., 1., 1., 1., 1., 1., 1., 1., 1., 1., 1., 1.,\n",
       "        1., 1., 1., 1., 1., 1., 1., 1., 1., 1., 1., 1., 1., 1., 1., 1., 1., 1.,\n",
       "        1., 1., 1., 1., 1., 1., 1., 1., 1., 1., 1., 1., 1., 1., 1., 1., 1., 1.,\n",
       "        1., 1., 1., 1., 1., 1., 1., 1., 1., 1., 1., 1., 1., 1., 1., 1., 1., 1.,\n",
       "        1., 1., 1., 1., 1., 1., 1., 1., 1., 1., 1., 1., 1., 1., 1., 1., 1., 1.,\n",
       "        1., 1., 1., 1., 1., 1., 1., 1., 1., 1., 1., 1., 1., 1., 1., 1., 1., 1.,\n",
       "        1., 1., 1., 1., 1., 1., 1., 1., 1., 1., 1., 1., 1., 1., 1., 1., 1., 1.,\n",
       "        1., 1., 1., 1., 1., 1., 1., 1., 1., 1., 1., 1., 1., 1., 1., 1., 1., 1.,\n",
       "        1., 1., 1., 1., 1., 1., 1., 1., 1., 1., 1., 1., 1., 1., 1., 1., 1., 1.,\n",
       "        1., 1., 1., 1., 1., 1., 1., 1., 1., 1., 1., 1., 1., 1., 1., 1., 1., 1.,\n",
       "        1., 1., 1., 1., 1., 1., 1., 1., 1., 1., 1., 1., 1., 1., 1., 1., 1., 1.,\n",
       "        1., 1., 1., 1., 1., 1., 1., 1., 1., 1., 1., 1., 1., 1., 1., 1., 1., 1.,\n",
       "        1., 1., 1., 1., 1., 1., 1., 1., 1., 1., 1., 1., 1., 1., 1., 1., 1., 1.,\n",
       "        1., 1., 1., 1., 1., 1., 1., 1., 1., 1., 1., 1., 1., 1., 1., 1., 1., 1.,\n",
       "        1., 1., 1., 1., 1., 1., 1., 1., 1., 1., 1., 1., 1., 1., 1., 1., 1., 1.,\n",
       "        1., 1., 1., 1., 1., 1., 1., 1., 1., 1., 1., 1., 1., 1., 1., 1., 1., 1.,\n",
       "        1., 1., 1., 1., 1., 1., 1., 1., 1., 1., 1., 1., 1., 1., 1., 1., 1., 1.,\n",
       "        1., 1., 1., 1., 1., 1., 1., 1., 1., 1., 1., 1., 1., 1., 1., 1., 1., 1.,\n",
       "        1., 1., 1., 1., 1., 1., 1., 1., 1., 1., 1., 1., 1., 1., 1., 1., 1., 1.,\n",
       "        1., 1., 1., 1., 1., 1., 1., 1., 1., 1., 1., 1., 1., 1., 1., 1., 1., 1.,\n",
       "        1., 1., 1., 1., 1., 1., 1., 1., 1., 1., 1., 1., 1., 1., 1., 1., 1., 1.,\n",
       "        1., 1., 1., 1., 1., 1., 1., 1., 1., 1., 1., 1., 1., 1., 1., 1., 1., 1.,\n",
       "        1., 1., 1., 1., 1., 1., 1., 1., 1., 1., 1., 1., 1., 1., 1., 1., 1., 1.,\n",
       "        1., 1., 1., 1., 1., 1., 1., 1., 1., 1., 1., 1., 1., 1., 1., 1., 1., 1.,\n",
       "        1., 1., 1., 1., 1., 1., 1., 1., 1., 1., 1., 1., 1., 1., 1., 1., 1., 1.,\n",
       "        1., 1., 1., 1., 1., 1., 1., 1., 1., 1., 1., 1., 1., 1., 1., 1., 1., 1.,\n",
       "        1., 1., 1., 1., 1., 1., 1., 1., 1., 1., 1., 1., 1., 1., 1., 1., 1., 1.,\n",
       "        1., 1., 1., 1., 1., 1., 1., 1., 1., 1., 1., 1., 1., 1., 1., 1., 1., 1.,\n",
       "        1., 1., 1., 1., 1., 1., 1., 1., 1., 1., 1., 1., 1., 1., 1., 1., 1., 1.,\n",
       "        1., 1., 1., 1., 1., 1., 1., 1., 1., 1., 1., 1., 1., 1., 1., 1., 1., 1.,\n",
       "        1., 1., 1., 1., 1., 1., 1., 1., 1., 1., 1., 1., 1., 1., 1., 1., 1., 1.,\n",
       "        1., 1., 1., 1., 1., 1., 1., 1., 1., 1., 1., 1., 1., 1., 1., 1., 1., 1.,\n",
       "        1., 1., 1., 1., 1., 1., 1., 1., 1., 1., 1., 1., 1., 1., 1., 1., 1., 1.,\n",
       "        1., 1., 1., 1., 1., 1., 1., 1., 1., 1.])"
      ]
     },
     "execution_count": 55,
     "metadata": {},
     "output_type": "execute_result"
    }
   ],
   "source": [
    "top_k_mask[0,:]"
   ]
  },
  {
   "cell_type": "code",
   "execution_count": 40,
   "metadata": {},
   "outputs": [
    {
     "data": {
      "text/plain": [
       "tensor([-0.0315])"
      ]
     },
     "execution_count": 40,
     "metadata": {},
     "output_type": "execute_result"
    }
   ],
   "source": [
    "lolz.weight.data[0,inds[0]]"
   ]
  },
  {
   "cell_type": "code",
   "execution_count": 38,
   "metadata": {},
   "outputs": [
    {
     "data": {
      "text/plain": [
       "tensor([-2.2721e-02,  2.3182e-02,  2.4363e-02,  1.3467e-02, -2.2136e-02,\n",
       "         2.8694e-02,  3.0001e-02,  8.0738e-03, -1.8713e-02, -2.3842e-03,\n",
       "         9.2255e-03,  1.9670e-02, -1.7047e-02, -9.7258e-03, -2.6718e-02,\n",
       "        -1.5851e-02,  1.3736e-02, -2.6243e-02,  1.1083e-02,  2.6184e-02,\n",
       "         8.7867e-04, -1.1380e-02,  1.4225e-02, -2.7064e-03,  1.1194e-02,\n",
       "        -1.3865e-02,  3.1515e-02, -2.0115e-03, -1.8368e-02,  2.1489e-02,\n",
       "         1.6084e-02, -2.9771e-02,  2.8471e-02, -1.6413e-02, -2.0147e-02,\n",
       "         1.6245e-02,  1.0539e-02,  2.1616e-03,  2.5163e-02, -2.3549e-03,\n",
       "        -2.8709e-03, -1.4007e-03, -2.9935e-02,  8.5835e-03,  4.5045e-03,\n",
       "         4.5965e-03, -2.6204e-02,  2.1963e-02,  2.0034e-02,  2.3175e-02,\n",
       "         2.0428e-02,  2.3642e-02, -3.5536e-03,  7.0854e-03, -8.1709e-03,\n",
       "         4.7010e-03, -1.8142e-02, -9.0118e-03, -1.2719e-03,  2.5873e-02,\n",
       "        -7.8365e-03, -7.2247e-04,  4.3842e-04,  1.0004e-03, -2.9803e-02,\n",
       "         2.1511e-02, -1.4619e-02, -1.6883e-02,  2.7444e-02, -2.5988e-03,\n",
       "         3.0129e-02,  4.2157e-03, -6.9074e-03, -7.8357e-03, -1.0378e-03,\n",
       "         3.1114e-02,  1.9902e-02,  2.9908e-02,  3.2886e-03,  2.8880e-02,\n",
       "         1.5501e-02, -6.5371e-03,  1.5226e-02,  2.8073e-02,  3.1009e-02,\n",
       "        -1.6945e-02, -7.3263e-03,  1.4155e-02,  2.1878e-02,  4.2308e-03,\n",
       "         1.1302e-02,  1.2738e-02,  5.2921e-03, -2.9287e-02, -2.7403e-02,\n",
       "         8.1648e-03, -1.1481e-02,  1.8697e-03,  2.5215e-02, -1.2760e-02,\n",
       "         1.5848e-02,  2.6543e-02,  1.1693e-03,  1.4486e-02, -1.3360e-02,\n",
       "        -2.6253e-02,  5.6284e-03, -2.6451e-02, -2.8438e-02,  2.2271e-02,\n",
       "         6.6795e-03, -1.0937e-02, -2.8775e-02, -2.7673e-02,  9.2024e-03,\n",
       "        -8.0088e-04, -9.8892e-03, -1.4928e-02,  3.8394e-03, -2.0523e-02,\n",
       "        -6.1859e-03, -2.1873e-02,  1.0803e-02, -1.0662e-02, -2.8058e-02,\n",
       "        -2.0846e-02,  2.3736e-03, -2.2054e-02, -4.8272e-03, -2.0489e-02,\n",
       "        -3.0925e-02,  6.2248e-03,  1.2787e-02,  4.6183e-03,  2.1037e-02,\n",
       "         1.7722e-02, -1.8006e-02,  1.6087e-02, -1.4935e-02, -2.8205e-02,\n",
       "         2.2939e-02,  5.0845e-03,  2.8645e-02,  1.4207e-02,  3.7604e-03,\n",
       "        -9.6042e-03,  1.2149e-02,  2.5449e-02, -3.6160e-03, -1.6113e-03,\n",
       "        -5.8526e-03,  1.8344e-02, -1.6377e-02, -1.9146e-02,  1.2156e-02,\n",
       "         1.4484e-02, -2.7158e-02, -1.9020e-02, -2.5866e-02, -1.1254e-02,\n",
       "         2.4659e-02,  1.6913e-02, -7.9798e-03, -1.9124e-02,  7.7779e-03,\n",
       "        -2.3314e-02,  3.0256e-02, -2.7828e-02, -3.9973e-04,  1.4546e-02,\n",
       "        -2.0695e-02,  2.2732e-02, -9.3406e-03, -2.8062e-02,  1.8229e-02,\n",
       "        -2.7807e-02, -3.0889e-02,  1.1991e-03,  2.5347e-02,  8.4071e-03,\n",
       "         2.7592e-02, -2.4842e-02,  2.7903e-02,  2.3793e-02, -1.7971e-02,\n",
       "         2.4865e-02,  2.5934e-03,  2.8453e-03,  2.4782e-02,  1.1683e-02,\n",
       "        -7.8985e-03, -6.9125e-03, -3.6493e-03,  2.1378e-02, -2.6692e-02,\n",
       "        -5.9038e-03, -1.7098e-02,  1.0411e-02,  2.0260e-02, -7.5885e-03,\n",
       "        -9.1259e-03,  2.7618e-02, -2.3566e-02, -8.5562e-03,  2.3702e-02,\n",
       "         6.3193e-04,  1.8374e-02,  2.9830e-02, -4.6297e-03,  1.8025e-02,\n",
       "        -2.1666e-02,  2.0876e-02, -2.0618e-02,  1.5413e-02,  2.8573e-02,\n",
       "         4.8014e-03, -1.6488e-02,  2.6941e-02,  2.4851e-02, -1.5967e-02,\n",
       "         3.1470e-02, -2.6931e-02, -2.4011e-02,  2.3952e-02,  2.2664e-03,\n",
       "         2.3993e-02, -1.2591e-02,  3.0056e-02, -3.4954e-03,  2.0767e-02,\n",
       "        -2.2304e-02, -1.7172e-02,  2.1248e-02,  2.1440e-02,  2.1220e-02,\n",
       "         2.7530e-02,  2.2404e-02, -1.3690e-02, -2.0416e-03,  4.9751e-03,\n",
       "        -2.8530e-02,  2.6327e-02, -1.3611e-02,  1.0531e-02,  8.3580e-03,\n",
       "        -7.4935e-03, -5.1986e-03, -1.4133e-02,  1.7541e-02,  6.4906e-03,\n",
       "        -2.0939e-02,  1.9651e-02,  2.1627e-02, -2.5924e-02,  2.8633e-02,\n",
       "        -3.0302e-02,  4.2134e-03, -1.1102e-02, -7.6136e-03,  1.0912e-02,\n",
       "         1.6803e-02, -1.6448e-02,  1.0521e-02,  2.1569e-02,  5.8428e-03,\n",
       "        -9.6983e-03, -2.5043e-02, -2.3182e-02, -4.1376e-03, -2.8950e-02,\n",
       "         4.0246e-03, -2.5090e-02,  2.8238e-02, -2.3123e-02,  1.1585e-02,\n",
       "         2.5628e-02,  7.8484e-03,  1.2783e-02, -2.0428e-02, -8.4672e-03,\n",
       "        -8.8708e-03, -2.3535e-03, -1.8582e-02,  1.0672e-03,  2.1288e-02,\n",
       "         1.3778e-02,  2.9472e-02,  6.9389e-03,  3.0796e-02, -1.7119e-02,\n",
       "        -1.0893e-02,  2.1190e-02,  1.6821e-02,  1.4268e-02,  2.1783e-02,\n",
       "         1.8625e-02,  2.2246e-02, -2.9370e-02,  3.6466e-03,  8.3287e-03,\n",
       "        -1.7155e-02, -9.4063e-04, -1.8486e-02,  2.3477e-02, -4.1267e-03,\n",
       "         5.2852e-04, -4.5924e-03, -1.2159e-02,  1.3075e-02, -2.7315e-04,\n",
       "         2.6030e-03, -1.2052e-02,  1.6400e-03,  1.3369e-02, -1.4930e-02,\n",
       "        -2.4384e-02, -1.1609e-02, -9.8275e-03,  1.6661e-02, -2.2822e-02,\n",
       "        -2.7404e-02,  4.1753e-03, -2.3547e-02,  2.7410e-02,  3.0113e-02,\n",
       "         4.6765e-03, -1.8397e-02,  2.0274e-02, -6.7620e-03, -2.7153e-02,\n",
       "         3.6116e-03, -1.2468e-02,  1.1419e-02,  2.4259e-03, -2.3387e-02,\n",
       "        -1.6882e-02, -3.0654e-02,  2.8501e-02, -2.8389e-02, -2.4292e-02,\n",
       "        -8.2487e-03,  2.7650e-02,  2.1656e-03, -8.5027e-03, -2.5728e-02,\n",
       "         1.7454e-02,  1.1957e-02,  2.6946e-02,  5.8129e-05, -1.7883e-02,\n",
       "        -1.1055e-02, -6.7145e-03, -4.3930e-03, -1.0544e-02, -9.9533e-03,\n",
       "        -1.7287e-02,  1.2276e-02, -2.8627e-02,  2.9993e-02,  1.5643e-02,\n",
       "        -1.2746e-02, -2.4044e-03,  8.6616e-03,  1.9470e-02, -2.7811e-02,\n",
       "        -7.7799e-03,  1.9535e-02,  2.8504e-02,  1.9703e-02,  3.4248e-03,\n",
       "        -1.5545e-02, -2.8965e-02,  1.1787e-02, -6.3673e-03, -2.1865e-03,\n",
       "         2.6892e-02,  7.1891e-03,  2.3411e-02,  1.4008e-02, -1.2507e-02,\n",
       "        -2.8413e-02,  1.5624e-02,  9.7587e-03,  1.8984e-02,  7.3866e-03,\n",
       "        -2.3242e-02, -8.4570e-03, -1.2428e-03, -7.6184e-03, -3.0998e-02,\n",
       "         1.0440e-02, -1.3291e-02,  1.7970e-02,  2.0581e-02, -8.1033e-03,\n",
       "         2.5205e-02,  5.9125e-03,  1.5955e-02, -2.9581e-02, -7.4956e-03,\n",
       "        -1.1779e-02,  1.6360e-02, -5.5202e-03,  2.7422e-02, -2.7367e-03,\n",
       "        -8.4208e-03, -2.2169e-02,  1.9369e-02,  6.1492e-03, -2.0506e-02,\n",
       "        -1.0398e-02, -2.7552e-02, -2.3652e-02, -1.5980e-02,  3.1236e-02,\n",
       "         2.3742e-02, -1.7843e-02, -4.4552e-03,  2.8099e-02, -2.2444e-02,\n",
       "        -3.1267e-02, -1.3033e-02, -1.9284e-02,  8.9163e-03, -1.5905e-02,\n",
       "        -1.4636e-02, -2.6214e-02, -1.5022e-02, -1.2983e-02, -2.5210e-02,\n",
       "         9.9978e-03,  4.1370e-03,  4.0404e-03,  4.1562e-03, -2.0686e-02,\n",
       "        -2.8744e-03, -3.4898e-03,  2.9269e-02,  2.3322e-02,  1.5383e-02,\n",
       "        -1.1718e-02, -1.5541e-02,  2.5167e-02,  2.4734e-02, -3.0729e-02,\n",
       "         3.1271e-02, -3.0772e-02,  1.0813e-02, -2.8450e-02,  1.8737e-04,\n",
       "         1.5186e-02,  2.4650e-02,  3.0580e-02,  3.0690e-02,  7.5055e-03,\n",
       "        -1.6795e-02, -1.1914e-02, -2.8828e-02,  6.0381e-03, -1.4118e-02,\n",
       "        -7.2843e-03,  2.9492e-03,  1.8810e-02, -2.9541e-02,  8.4796e-03,\n",
       "        -1.4550e-02, -1.8577e-03,  2.8550e-02, -2.9072e-02,  1.5828e-02,\n",
       "        -1.6972e-02,  8.7522e-03, -5.0852e-04,  2.0295e-02, -2.4203e-02,\n",
       "         1.6820e-02, -7.8765e-04, -2.6904e-02,  2.9504e-02, -2.4492e-02,\n",
       "        -2.4302e-02,  1.4291e-02, -6.5848e-03, -3.0875e-02, -1.8288e-02,\n",
       "         2.3440e-02, -3.7591e-03, -1.8566e-02, -9.1197e-03, -2.9495e-04,\n",
       "        -1.9812e-02,  1.0226e-02, -3.9977e-03, -7.0972e-03,  1.0788e-02,\n",
       "        -1.1982e-02,  6.4278e-03,  3.0207e-02, -1.3285e-02, -1.2936e-02,\n",
       "         2.1469e-02, -2.5262e-02,  1.6708e-02, -2.5047e-02, -2.8622e-02,\n",
       "         2.5312e-02,  9.4749e-04,  2.9949e-02,  6.4389e-03,  2.7866e-02,\n",
       "        -1.9935e-02,  2.3472e-02, -2.0633e-02,  2.9990e-02, -4.8566e-03,\n",
       "         2.1941e-02,  2.3152e-03,  2.3549e-02, -2.1287e-04, -1.6407e-02,\n",
       "        -3.5461e-03,  1.4396e-02, -2.0455e-02, -2.5144e-02, -6.1230e-03,\n",
       "        -1.1725e-02, -2.2682e-02, -2.0536e-02, -2.5785e-02,  2.5183e-02,\n",
       "         2.7374e-02, -8.6140e-03, -2.5548e-02,  2.2139e-02, -5.4155e-03,\n",
       "        -1.5646e-02,  2.1307e-02,  7.7964e-03,  1.7437e-02, -1.5866e-02,\n",
       "         2.1580e-02, -2.1802e-03,  1.5584e-03, -1.7459e-02,  8.9093e-03,\n",
       "        -1.8333e-02, -1.3300e-02,  2.9281e-02, -1.3229e-02,  1.8038e-02,\n",
       "         7.6838e-03, -2.2214e-02,  1.1654e-02, -3.0310e-02,  4.3481e-04,\n",
       "        -2.3988e-02,  6.8550e-03, -4.8990e-03,  1.8277e-02, -2.0088e-02,\n",
       "        -4.2637e-03, -5.6593e-04,  5.0377e-03,  2.6931e-02, -1.6717e-02,\n",
       "         1.9071e-02,  2.5072e-02,  2.0205e-02,  6.1650e-03, -2.3387e-02,\n",
       "        -6.3434e-03,  1.4523e-02, -1.7308e-02, -8.2637e-03,  1.1536e-02,\n",
       "         1.9780e-02,  6.3505e-04,  6.8958e-03, -2.4958e-02,  1.6477e-02,\n",
       "         1.8541e-03,  3.8773e-03,  5.3874e-03, -2.1969e-02, -2.7905e-02,\n",
       "        -5.3020e-03, -1.3362e-02,  5.2261e-03,  2.0762e-02, -2.6886e-02,\n",
       "        -3.0135e-02,  4.5829e-03,  1.7356e-03,  2.1583e-02, -1.1670e-02,\n",
       "        -1.8581e-02, -1.8081e-03, -2.4613e-03, -1.2428e-02, -4.4316e-05,\n",
       "         5.4892e-03, -2.2464e-02,  3.3530e-03,  2.5225e-03, -1.7629e-02,\n",
       "        -9.0594e-03,  2.1173e-02, -6.9236e-03, -2.7090e-02,  1.7735e-02,\n",
       "        -2.1382e-02,  9.4158e-03,  1.5689e-02, -1.2591e-02, -7.7548e-03,\n",
       "         2.1403e-02,  4.9589e-03, -6.2306e-04, -7.5713e-03,  6.6596e-03,\n",
       "         1.0233e-02, -2.0237e-02,  2.4190e-02, -2.0146e-02,  1.9850e-02,\n",
       "        -2.0392e-02,  2.2393e-02,  8.9294e-03,  1.3961e-02, -3.0419e-02,\n",
       "        -3.2400e-03,  1.6359e-02, -1.0300e-02,  1.7872e-03,  2.8888e-02,\n",
       "         1.2440e-02,  3.0018e-03,  9.3333e-05,  1.7995e-02,  2.0737e-02,\n",
       "        -2.0215e-02, -1.9669e-02,  4.3456e-03, -2.8004e-02,  4.3849e-03,\n",
       "        -1.3930e-03, -1.1111e-02,  1.2451e-02,  1.0628e-02,  2.1934e-02,\n",
       "         3.1348e-02, -2.8644e-02,  1.0605e-02, -1.1064e-02,  2.5809e-02,\n",
       "        -9.4908e-03,  2.4867e-02,  2.4480e-02,  3.7940e-03, -2.1088e-02,\n",
       "         3.8526e-03, -2.6794e-02,  7.2228e-03,  1.6753e-02, -1.5028e-02,\n",
       "         3.1040e-04,  1.4134e-02, -7.7370e-04,  3.1470e-02, -5.6473e-03,\n",
       "         8.9512e-03, -2.3955e-02, -2.1171e-02, -2.4219e-02, -2.1971e-02,\n",
       "        -1.2313e-03, -1.8497e-03,  3.0838e-02, -1.9083e-02,  1.9018e-02,\n",
       "         2.1862e-02,  4.5792e-03, -1.7456e-02,  1.3719e-02, -2.2301e-02,\n",
       "        -1.4251e-02, -1.9063e-02,  2.4855e-02, -2.9068e-02, -4.3330e-03,\n",
       "         1.1745e-02, -3.8502e-03, -1.0384e-04, -9.6001e-03,  4.4645e-03,\n",
       "         3.0420e-02, -2.9169e-02,  1.5425e-02,  3.1010e-02,  1.7351e-02,\n",
       "        -1.4263e-02, -8.2076e-03,  5.3910e-03, -2.2020e-03,  4.5057e-03,\n",
       "         2.3004e-02,  1.0358e-02,  2.4043e-02, -3.0872e-03, -1.3653e-02,\n",
       "        -2.1080e-02,  2.7065e-02, -1.2853e-02, -7.0712e-04,  6.1596e-03,\n",
       "         1.2554e-02, -2.5412e-02,  2.6214e-02,  7.0818e-03, -1.7363e-02,\n",
       "         1.2926e-02,  4.2796e-03, -6.9665e-04,  1.1005e-02, -1.4735e-02,\n",
       "         3.0840e-02, -3.2452e-03, -8.4767e-03,  2.3169e-02, -2.5158e-02,\n",
       "        -1.6133e-02,  2.7372e-02,  1.8698e-02, -2.8490e-02, -1.3285e-02,\n",
       "         2.5179e-02, -1.4415e-02,  1.2032e-02, -2.6920e-02,  3.0128e-02,\n",
       "        -8.5238e-03,  1.2087e-04,  6.8423e-03,  2.6318e-02,  1.9498e-02,\n",
       "        -4.2460e-04, -1.6526e-02, -2.8614e-02, -2.0813e-02,  2.0725e-02,\n",
       "         1.5390e-02,  2.6853e-02, -1.7825e-02,  6.2562e-03, -2.1854e-02,\n",
       "         2.4602e-02, -1.1797e-02,  1.3132e-02,  2.2347e-02, -2.4699e-02,\n",
       "        -1.0285e-02,  3.0554e-02,  1.6206e-03, -2.8119e-02, -2.1820e-02,\n",
       "         1.5835e-02, -2.3989e-02,  7.5332e-03, -1.2540e-02,  6.8756e-03,\n",
       "        -3.0499e-02,  1.8866e-03, -2.7162e-02, -2.1763e-02,  1.4934e-02,\n",
       "        -1.8567e-02, -2.1312e-02, -2.8406e-02,  3.0426e-02, -5.7690e-03,\n",
       "         3.0168e-02,  2.1224e-02, -2.6979e-02, -2.2645e-03,  2.4100e-02,\n",
       "         1.5874e-02, -1.6737e-02,  8.0930e-03,  2.9096e-02,  4.3350e-03,\n",
       "         1.2834e-02, -2.4642e-02,  3.6383e-03, -1.3189e-02,  2.9150e-02,\n",
       "         1.7335e-02,  1.6740e-02, -2.8547e-02, -1.2727e-02,  1.7007e-02,\n",
       "        -6.5429e-03, -2.6664e-02, -2.8985e-02, -1.1908e-02, -2.8193e-02,\n",
       "        -2.2609e-02, -7.3188e-03,  2.0924e-02, -6.5379e-03,  1.4719e-02,\n",
       "         6.5431e-03, -3.1487e-02, -1.4878e-02,  2.4187e-02,  4.7052e-03,\n",
       "        -1.4472e-02, -1.1013e-02,  2.4139e-02,  8.3727e-03, -8.6160e-03,\n",
       "         1.3132e-02,  1.6387e-02, -5.0248e-03, -2.7254e-02,  2.8741e-02,\n",
       "        -1.2727e-02, -2.8141e-02,  8.9361e-03,  3.0160e-02, -5.0779e-03,\n",
       "         6.8066e-03,  1.1040e-02,  2.0577e-02,  2.0538e-02, -2.8035e-02,\n",
       "         2.8196e-02,  3.0306e-02, -1.7907e-02, -3.8463e-03,  1.5140e-02,\n",
       "        -2.1819e-02,  7.3445e-03, -1.8875e-02,  2.0932e-02, -1.3949e-03,\n",
       "        -2.0776e-02,  3.9100e-03, -2.4354e-02, -2.6283e-02, -1.1471e-02,\n",
       "        -1.1275e-02,  2.1386e-02, -1.3948e-02, -2.1658e-02, -5.8086e-03,\n",
       "         1.6782e-02,  1.9735e-02,  2.7458e-02,  1.9738e-02, -1.9683e-02,\n",
       "        -2.3698e-02, -2.7153e-02,  1.5481e-02, -6.3769e-03,  2.1896e-02,\n",
       "         1.3136e-02,  1.9510e-02, -1.0420e-02,  2.7810e-02, -2.9515e-02,\n",
       "        -1.8450e-02, -1.3663e-02, -3.0134e-02, -1.4887e-02, -2.4071e-02,\n",
       "        -1.0627e-02,  9.2593e-04, -2.9049e-02,  2.9286e-02, -1.3431e-02,\n",
       "        -1.1670e-02,  1.7389e-02, -7.5715e-04, -1.6151e-02, -2.9501e-02,\n",
       "        -1.4736e-02, -1.2547e-02,  2.5630e-02,  1.1160e-02,  1.3470e-02,\n",
       "        -1.3236e-02, -2.8618e-02,  1.1028e-02,  2.9480e-02, -1.5246e-02,\n",
       "        -1.4698e-02,  1.2417e-02,  2.1647e-02,  3.2499e-03,  2.4739e-02,\n",
       "        -1.2188e-02,  1.8320e-02, -1.9082e-02, -2.5536e-02,  1.6429e-02,\n",
       "         2.8800e-02, -2.3794e-02, -6.4253e-03,  1.9329e-02,  6.7468e-03,\n",
       "        -1.7834e-03, -2.6878e-02, -1.5945e-02,  2.1551e-02,  9.4971e-03,\n",
       "        -6.6753e-03, -3.0010e-02,  2.7077e-02,  6.5400e-03,  1.8510e-02,\n",
       "         2.2470e-03,  2.8656e-03,  6.1071e-03,  2.8837e-03, -1.6913e-02,\n",
       "        -2.7353e-02, -4.0222e-03, -1.8563e-02,  1.0386e-02,  1.4710e-02,\n",
       "        -2.6401e-02, -2.3251e-02, -2.0271e-02,  3.1341e-02, -2.5967e-02,\n",
       "         3.1174e-02,  1.2751e-02,  1.0897e-03,  8.9266e-03,  3.1056e-02,\n",
       "        -2.1629e-02, -2.2165e-02,  1.2108e-02, -2.1774e-02,  1.9127e-03,\n",
       "        -2.5044e-02,  1.3252e-02,  1.4140e-02,  9.2972e-04, -1.0466e-02,\n",
       "        -2.8577e-02,  3.1622e-02,  2.3116e-02, -4.9610e-03, -6.5278e-03,\n",
       "         3.0588e-03, -2.9352e-02, -4.8953e-04, -3.0994e-02,  1.0750e-02,\n",
       "         2.9313e-02, -2.8043e-02,  1.7622e-02,  3.0266e-02,  1.2173e-02,\n",
       "        -3.0413e-02, -2.6896e-04,  2.6963e-02,  3.0120e-02,  2.0741e-02,\n",
       "         2.0247e-02, -3.0746e-02,  1.3565e-02,  2.7630e-02, -1.9616e-02,\n",
       "         8.3775e-04, -3.2615e-03,  1.3880e-02,  2.3539e-02, -2.2678e-03,\n",
       "        -1.9848e-02, -3.4462e-03,  1.3373e-02, -9.3546e-03, -2.2236e-02,\n",
       "         3.0169e-03, -7.2339e-03,  3.0952e-02,  2.1122e-02,  1.1035e-02,\n",
       "        -7.3757e-03,  1.3651e-02,  2.2462e-02,  9.2798e-03,  1.8267e-02,\n",
       "         1.8389e-02,  1.3328e-02, -8.8812e-03, -2.2651e-02, -1.1880e-02])"
      ]
     },
     "execution_count": 38,
     "metadata": {},
     "output_type": "execute_result"
    }
   ],
   "source": [
    "lolz.weight.data[0,:]"
   ]
  },
  {
   "cell_type": "code",
   "execution_count": 28,
   "metadata": {},
   "outputs": [],
   "source": [
    "lolz.weight.data[:, inds] = 0"
   ]
  },
  {
   "cell_type": "code",
   "execution_count": 29,
   "metadata": {},
   "outputs": [
    {
     "data": {
      "text/plain": [
       "tensor([0., 0., 0., 0., 0., 0., 0., 0., 0., 0., 0., 0., 0., 0., 0., 0., 0., 0., 0., 0., 0., 0., 0., 0.,\n",
       "        0., 0., 0., 0., 0., 0., 0., 0., 0., 0., 0., 0., 0., 0., 0., 0., 0., 0., 0., 0., 0., 0., 0., 0.,\n",
       "        0., 0., 0., 0., 0., 0., 0., 0., 0., 0., 0., 0., 0., 0., 0., 0., 0., 0., 0., 0., 0., 0., 0., 0.,\n",
       "        0., 0., 0., 0., 0., 0., 0., 0., 0., 0., 0., 0., 0., 0., 0., 0., 0., 0., 0., 0., 0., 0., 0., 0.,\n",
       "        0., 0., 0., 0., 0., 0., 0., 0., 0., 0., 0., 0., 0., 0., 0., 0., 0., 0., 0., 0., 0., 0., 0., 0.,\n",
       "        0., 0., 0., 0., 0., 0., 0., 0., 0., 0., 0., 0., 0., 0., 0., 0., 0., 0., 0., 0., 0., 0., 0., 0.,\n",
       "        0., 0., 0., 0., 0., 0., 0., 0., 0., 0., 0., 0., 0., 0., 0., 0., 0., 0., 0., 0., 0., 0., 0., 0.,\n",
       "        0., 0., 0., 0., 0., 0., 0., 0., 0., 0., 0., 0., 0., 0., 0., 0., 0., 0., 0., 0., 0., 0., 0., 0.,\n",
       "        0., 0., 0., 0., 0., 0., 0., 0., 0., 0., 0., 0., 0., 0., 0., 0., 0., 0., 0., 0., 0., 0., 0., 0.,\n",
       "        0., 0., 0., 0., 0., 0., 0., 0., 0., 0., 0., 0., 0., 0., 0., 0., 0., 0., 0., 0., 0., 0., 0., 0.,\n",
       "        0., 0., 0., 0., 0., 0., 0., 0., 0., 0., 0., 0., 0., 0., 0., 0., 0., 0., 0., 0., 0., 0., 0., 0.,\n",
       "        0., 0., 0., 0., 0., 0., 0., 0., 0., 0., 0., 0., 0., 0., 0., 0., 0., 0., 0., 0., 0., 0., 0., 0.,\n",
       "        0., 0., 0., 0., 0., 0., 0., 0., 0., 0., 0., 0., 0., 0., 0., 0., 0., 0., 0., 0., 0., 0., 0., 0.,\n",
       "        0., 0., 0., 0., 0., 0., 0., 0., 0., 0., 0., 0., 0., 0., 0., 0., 0., 0., 0., 0., 0., 0., 0., 0.,\n",
       "        0., 0., 0., 0., 0., 0., 0., 0., 0., 0., 0., 0., 0., 0., 0., 0., 0., 0., 0., 0., 0., 0., 0., 0.,\n",
       "        0., 0., 0., 0., 0., 0., 0., 0., 0., 0., 0., 0., 0., 0., 0., 0., 0., 0., 0., 0., 0., 0., 0., 0.,\n",
       "        0., 0., 0., 0., 0., 0., 0., 0., 0., 0., 0., 0., 0., 0., 0., 0., 0., 0., 0., 0., 0., 0., 0., 0.,\n",
       "        0., 0., 0., 0., 0., 0., 0., 0., 0., 0., 0., 0., 0., 0., 0., 0., 0., 0., 0., 0., 0., 0., 0., 0.,\n",
       "        0., 0., 0., 0., 0., 0., 0., 0., 0., 0., 0., 0., 0., 0., 0., 0., 0., 0., 0., 0., 0., 0., 0., 0.,\n",
       "        0., 0., 0., 0., 0., 0., 0., 0., 0., 0., 0., 0., 0., 0., 0., 0., 0., 0., 0., 0., 0., 0., 0., 0.,\n",
       "        0., 0., 0., 0., 0., 0., 0., 0., 0., 0., 0., 0., 0., 0., 0., 0., 0., 0., 0., 0., 0., 0., 0., 0.,\n",
       "        0., 0., 0., 0., 0., 0., 0., 0., 0., 0., 0., 0., 0., 0., 0., 0., 0., 0., 0., 0., 0., 0., 0., 0.,\n",
       "        0., 0., 0., 0., 0., 0., 0., 0., 0., 0., 0., 0., 0., 0., 0., 0., 0., 0., 0., 0., 0., 0., 0., 0.,\n",
       "        0., 0., 0., 0., 0., 0., 0., 0., 0., 0., 0., 0., 0., 0., 0., 0., 0., 0., 0., 0., 0., 0., 0., 0.,\n",
       "        0., 0., 0., 0., 0., 0., 0., 0., 0., 0., 0., 0., 0., 0., 0., 0., 0., 0., 0., 0., 0., 0., 0., 0.,\n",
       "        0., 0., 0., 0., 0., 0., 0., 0., 0., 0., 0., 0., 0., 0., 0., 0., 0., 0., 0., 0., 0., 0., 0., 0.,\n",
       "        0., 0., 0., 0., 0., 0., 0., 0., 0., 0., 0., 0., 0., 0., 0., 0., 0., 0., 0., 0., 0., 0., 0., 0.,\n",
       "        0., 0., 0., 0., 0., 0., 0., 0., 0., 0., 0., 0., 0., 0., 0., 0., 0., 0., 0., 0., 0., 0., 0., 0.,\n",
       "        0., 0., 0., 0., 0., 0., 0., 0., 0., 0., 0., 0., 0., 0., 0., 0., 0., 0., 0., 0., 0., 0., 0., 0.,\n",
       "        0., 0., 0., 0., 0., 0., 0., 0., 0., 0., 0., 0., 0., 0., 0., 0., 0., 0., 0., 0., 0., 0., 0., 0.,\n",
       "        0., 0., 0., 0., 0., 0., 0., 0., 0., 0., 0., 0., 0., 0., 0., 0., 0., 0., 0., 0., 0., 0., 0., 0.,\n",
       "        0., 0., 0., 0., 0., 0., 0., 0., 0., 0., 0., 0., 0., 0., 0., 0., 0., 0., 0., 0., 0., 0., 0., 0.,\n",
       "        0., 0., 0., 0., 0., 0., 0., 0., 0., 0., 0., 0., 0., 0., 0., 0., 0., 0., 0., 0., 0., 0., 0., 0.,\n",
       "        0., 0., 0., 0., 0., 0., 0., 0., 0., 0., 0., 0., 0., 0., 0., 0., 0., 0., 0., 0., 0., 0., 0., 0.,\n",
       "        0., 0., 0., 0., 0., 0., 0., 0., 0., 0., 0., 0., 0., 0., 0., 0., 0., 0., 0., 0., 0., 0., 0., 0.,\n",
       "        0., 0., 0., 0., 0., 0., 0., 0., 0., 0., 0., 0., 0., 0., 0., 0., 0., 0., 0., 0., 0., 0., 0., 0.,\n",
       "        0., 0., 0., 0., 0., 0., 0., 0., 0., 0., 0., 0., 0., 0., 0., 0., 0., 0., 0., 0., 0., 0., 0., 0.,\n",
       "        0., 0., 0., 0., 0., 0., 0., 0., 0., 0., 0., 0., 0., 0., 0., 0., 0., 0., 0., 0., 0., 0., 0., 0.,\n",
       "        0., 0., 0., 0., 0., 0., 0., 0., 0., 0., 0., 0., 0., 0., 0., 0., 0., 0., 0., 0., 0., 0., 0., 0.,\n",
       "        0., 0., 0., 0., 0., 0., 0., 0., 0., 0., 0., 0., 0., 0., 0., 0., 0., 0., 0., 0., 0., 0., 0., 0.,\n",
       "        0., 0., 0., 0., 0., 0., 0., 0., 0., 0., 0., 0., 0., 0., 0., 0., 0., 0., 0., 0., 0., 0., 0., 0.,\n",
       "        0., 0., 0., 0., 0., 0., 0., 0., 0., 0., 0., 0., 0., 0., 0., 0.])"
      ]
     },
     "execution_count": 29,
     "metadata": {},
     "output_type": "execute_result"
    }
   ],
   "source": [
    "lolz.weight.data[0, :]"
   ]
  },
  {
   "cell_type": "markdown",
   "metadata": {},
   "source": [
    "## FloodFill"
   ]
  },
  {
   "cell_type": "code",
   "execution_count": 134,
   "metadata": {},
   "outputs": [
    {
     "data": {
      "image/png": "[encoded data removed]",
      "text/plain": [
       "<Figure size 432x288 with 1 Axes>"
      ]
     },
     "metadata": {
      "needs_background": "light"
     },
     "output_type": "display_data"
    }
   ],
   "source": [
    "import cv2\n",
    "\n",
    "img = cv2.imread('../data/test_images/ffn.png')\n",
    "plt.imshow(img)\n",
    "plt.show()"
   ]
  },
  {
   "cell_type": "code",
   "execution_count": 135,
   "metadata": {},
   "outputs": [
    {
     "data": {
      "text/plain": [
       "(14, 12)"
      ]
     },
     "execution_count": 135,
     "metadata": {},
     "output_type": "execute_result"
    }
   ],
   "source": [
    "(x,y,_) = np.unravel_index(img.argmax(), img.shape)\n",
    "x,y"
   ]
  },
  {
   "cell_type": "code",
   "execution_count": 136,
   "metadata": {},
   "outputs": [],
   "source": [
    "mask = np.zeros((30,30,1), dtype=np.uint8)\n",
    "ldif = hdif = 30\n",
    "cv2.floodFill(img, mask, (x,y), 1, (ldif, ldif, ldif), (hdif, hdif, hdif), flags=8) # 4 if share edge not corner\n",
    "mask = mask[1:-1, 1:-1]"
   ]
  },
  {
   "cell_type": "code",
   "execution_count": 137,
   "metadata": {},
   "outputs": [
    {
     "data": {
      "image/png": "[encoded data removed]",
      "text/plain": [
       "<Figure size 432x288 with 1 Axes>"
      ]
     },
     "metadata": {
      "needs_background": "light"
     },
     "output_type": "display_data"
    }
   ],
   "source": [
    "plt.imshow(mask[:,:,0])\n",
    "plt.show()"
   ]
  },
  {
   "cell_type": "code",
   "execution_count": 138,
   "metadata": {},
   "outputs": [
    {
     "name": "stdout",
     "output_type": "stream",
     "text": [
      "Percentage of contiguous region 1.0\n"
     ]
    }
   ],
   "source": [
    "print(\"Percentage of contiguous region\", mask.mean())"
   ]
  },
  {
   "cell_type": "markdown",
   "metadata": {},
   "source": [
    "## Entropy"
   ]
  },
  {
   "cell_type": "code",
   "execution_count": 20,
   "metadata": {},
   "outputs": [
    {
     "name": "stdout",
     "output_type": "stream",
     "text": [
      "Final params being used namespace(Frey_paper_rep_WT=False, act_func=ReLU(), active_threshold=0.3, all_positive_weights=True, batch_size=128, deep_sdm=False, epochs_to_train_for=200, gradient_clip=1000, nneurons=[1000], img_dim=28, input_size=784, k_decay_func=<KDecayOptions.LINEAR: 2>, k_max=999, k_min=10, k_transition_epochs_to_train_for=100, l1_loss_weight=None, l2_loss_weight=None, learn_addresses=True, lr=0.001, momentum=0.9, nchannels=1, nclasses=10, norm_addresses=True, norm_values=False, num_activations_for_gaba_switch=10000000, num_receptive_field_imgs=10, num_workers=5, opt='SGDM', output_size=10, positive_activations=True, print_every=False, reconstruction=False, sparsity_threshold=0.3, svdo=False, use_bias=False, use_gaba_switch=False, use_top_k=True)\n"
     ]
    }
   ],
   "source": [
    "\n",
    "params = get_params(ModelStyles.SDM_CLASSIFICATION, DataSet.MNIST)\n",
    "params.use_gaba_switch=True\n",
    "params.k_decay_func = KDecayOptions.NO_DECAY\n",
    "# set from nvidia-smi check\n",
    "device = torch.device(\"cuda\" if torch.cuda.is_available() else \"cpu\")\n",
    "\n",
    "model, data_module = get_net(params, load_from_checkpoint=\"/home/trenton/Foundational-SDM/wandb_Logger/Foundational-SDM/2rtc4ysk/checkpoints/epoch=499-step=234499.ckpt\")\n",
    "model = model.to(device)"
   ]
  },
  {
   "cell_type": "code",
   "execution_count": 23,
   "metadata": {},
   "outputs": [],
   "source": [
    "model.neuron_activation_counters = torch.ones((1,params.nneurons[0]), requires_grad=False).to(device) * 1000000000000000"
   ]
  },
  {
   "cell_type": "code",
   "execution_count": 28,
   "metadata": {},
   "outputs": [
    {
     "name": "stderr",
     "output_type": "stream",
     "text": [
      "/home/trenton/anaconda3/lib/python3.8/site-packages/pytorch_lightning/core/datamodule.py:469: LightningDeprecationWarning: DataModule.setup has already been called, so it will not be called again. In v1.6 this behavior will change to always call DataModule.setup.\n",
      "  rank_zero_deprecation(\n"
     ]
    },
    {
     "name": "stdout",
     "output_type": "stream",
     "text": [
      "Test  accuracy 0.9322\n"
     ]
    }
   ],
   "source": [
    "# evaluate the model: \n",
    "data_module.setup(None)\n",
    "train_loader = data_module.train_dataloader()\n",
    "test_loader = data_module.val_dataloader()\n",
    "\n",
    "activation_storage = None\n",
    "data_labels = []\n",
    "\n",
    "for train_o_test, loader in zip(['Test'], [test_loader]):\n",
    "    with torch.no_grad(): \n",
    "        accuracies = []\n",
    "        for data in loader: \n",
    "            x, y = data\n",
    "            x, y = x.to(device), y.to(device)\n",
    "            logits, pre_active_values = model.forward(x, log_metrics=False)\n",
    "\n",
    "            if activation_storage is None:\n",
    "                activation_storage = pre_active_values\n",
    "            else: \n",
    "                activation_storage = torch.cat([activation_storage,pre_active_values],dim=0)\n",
    "            data_labels += list(y.cpu().numpy()) \n",
    "            \n",
    "            b_accuracies = (logits.argmax(dim=1)==y)\n",
    "            loss = model.compute_loss(logits, y, x)\n",
    "            accuracies += list(b_accuracies.cpu().numpy())\n",
    "        print(train_o_test,\" accuracy\", np.mean(accuracies))\n",
    "\n",
    "\n"
   ]
  },
  {
   "cell_type": "code",
   "execution_count": 122,
   "metadata": {},
   "outputs": [],
   "source": [
    "params.sparsity_threshold = 0.000001"
   ]
  },
  {
   "cell_type": "code",
   "execution_count": 138,
   "metadata": {},
   "outputs": [
    {
     "name": "stdout",
     "output_type": "stream",
     "text": [
      "892\n",
      "892\n",
      "892\n",
      "892\n",
      "892\n",
      "892\n",
      "892\n",
      "892\n",
      "892\n",
      "892\n"
     ]
    }
   ],
   "source": [
    "import pandas as pd\n",
    "data_labels = np.asarray(data_labels)\n",
    "\n",
    "# ensure the number of data points in each class is the same: \n",
    "min_num = 892 # this is the max number in the val set for any class. \n",
    "inds_to_keep = []\n",
    "for c in range(10):\n",
    "    print(( data_labels==c).sum() )\n",
    "    label_inds = np.arange(len(data_labels))[data_labels==c]\n",
    "    chosen_inds = np.random.choice(label_inds, size=min_num, replace=False )\n",
    "    inds_to_keep += list(chosen_inds)\n",
    "inds_to_keep = np.asarray(inds_to_keep)\n",
    "\n",
    "activation_storage = activation_storage[torch.from_numpy(inds_to_keep).type(torch.long)]\n",
    "data_labels = data_labels[inds_to_keep]\n",
    "\n",
    "# summing up all activations. \n",
    "# also computing metrics based upon class label. \n",
    "\n",
    "# this will give the baseline dead number\n",
    "activity_per_neuron = activation_storage.sum(0)\n",
    "# neurons responding to a given input. how many neurons are active. \n",
    "active_per_input = activation_storage.sum(1)\n",
    "active_per_input_thresh = (activation_storage>params.active_threshold).type(torch.float).mean(1)\n",
    "# what is the baseline dead n\n",
    "\n",
    "# number that is dead using threshold. this is over all neurons. \n",
    "perc_dead_per_threshold = (activity_per_neuron < params.active_threshold).sum() / activation_storage.shape[1]\n",
    "\n",
    "# get the data entropy\n",
    "\n",
    "act_pdf = activation_storage / activity_per_neuron\n",
    "act_pdf[0,0] = 0.0\n",
    "z_inds = (act_pdf==0.0)\n",
    "act_pdf[z_inds] += 0.000000000000001\n",
    "data_ent = -(act_pdf * torch.log(act_pdf)).sum(0)\n",
    "\n",
    "# get the class entropy. using pandas group by function\n",
    "df = pd.DataFrame( activation_storage.cpu().numpy(), columns=list(np.arange(activation_storage.shape[1])) )\n",
    "df[\"Labels\"] = data_labels\n",
    "df.set_index('Labels', inplace=True)\n",
    "\n",
    "# this is entropy per each class which is not the one number I am looking for. \n",
    "'''\n",
    "def class_ent(x):\n",
    "    act_pdf = x / x.sum(0)\n",
    "    return -(act_pdf * np.log(act_pdf)).sum(0)\n",
    "class_ent = df.groupby(\"Labels\").apply(class_ent)\n",
    "'''\n",
    "\n",
    "class_acts = df.groupby(\"Labels\").agg('sum').values\n",
    "act_pdf = class_acts / class_acts.sum(0)\n",
    "act_pdf[0,0] = 0.0\n",
    "z_inds = (act_pdf==0.0)\n",
    "act_pdf[z_inds] += 0.000000000000001\n",
    "class_ent = -(act_pdf * np.log(act_pdf)).sum(0)\n",
    "\n",
    "# get sparsity\n",
    "weight_sparsity_percentage = (model.fc1 < params.sparsity_threshold).sum(1) / params.input_size"
   ]
  },
  {
   "cell_type": "code",
   "execution_count": 42,
   "metadata": {},
   "outputs": [
    {
     "name": "stdout",
     "output_type": "stream",
     "text": [
      "torch.Size([1000])\n"
     ]
    },
    {
     "data": {
      "image/png": "[encoded data removed]",
      "text/plain": [
       "<Figure size 432x288 with 1 Axes>"
      ]
     },
     "metadata": {
      "needs_background": "light"
     },
     "output_type": "display_data"
    }
   ],
   "source": [
    "# a random input\n",
    "\n",
    "print(activation_storage[0].shape)\n",
    "plt.hist(activation_storage[0].cpu().numpy(), bins=200 )\n",
    "plt.show()"
   ]
  },
  {
   "cell_type": "code",
   "execution_count": 43,
   "metadata": {},
   "outputs": [
    {
     "name": "stdout",
     "output_type": "stream",
     "text": [
      "torch.Size([1000])\n"
     ]
    },
    {
     "data": {
      "image/png": "[encoded data removed]",
      "text/plain": [
       "<Figure size 432x288 with 1 Axes>"
      ]
     },
     "metadata": {
      "needs_background": "light"
     },
     "output_type": "display_data"
    }
   ],
   "source": [
    "print(activity_per_neuron.shape)\n",
    "plt.hist(activity_per_neuron.cpu().numpy(), bins=200 )\n",
    "plt.show()"
   ]
  },
  {
   "cell_type": "code",
   "execution_count": 44,
   "metadata": {},
   "outputs": [
    {
     "name": "stdout",
     "output_type": "stream",
     "text": [
      "torch.Size([10000])\n"
     ]
    },
    {
     "data": {
      "image/png": "[encoded data removed]",
      "text/plain": [
       "<Figure size 432x288 with 1 Axes>"
      ]
     },
     "metadata": {
      "needs_background": "light"
     },
     "output_type": "display_data"
    }
   ],
   "source": [
    "print(active_per_input.shape)\n",
    "plt.hist(active_per_input.cpu().numpy(), bins=200 )\n",
    "plt.show()"
   ]
  },
  {
   "cell_type": "code",
   "execution_count": 45,
   "metadata": {},
   "outputs": [
    {
     "name": "stdout",
     "output_type": "stream",
     "text": [
      "torch.Size([10000])\n"
     ]
    },
    {
     "data": {
      "image/png": "[encoded data removed]",
      "text/plain": [
       "<Figure size 432x288 with 1 Axes>"
      ]
     },
     "metadata": {
      "needs_background": "light"
     },
     "output_type": "display_data"
    }
   ],
   "source": [
    "print(active_per_input_thresh.shape)\n",
    "plt.hist(active_per_input_thresh.cpu().numpy(), bins=200 )\n",
    "plt.show()"
   ]
  },
  {
   "cell_type": "code",
   "execution_count": 51,
   "metadata": {},
   "outputs": [
    {
     "name": "stdout",
     "output_type": "stream",
     "text": [
      "torch.Size([10000])\n"
     ]
    },
    {
     "data": {
      "image/png": "[encoded data removed]",
      "text/plain": [
       "<Figure size 432x288 with 1 Axes>"
      ]
     },
     "metadata": {
      "needs_background": "light"
     },
     "output_type": "display_data"
    }
   ],
   "source": [
    "plt.hist(act_pdf[:,0].cpu().numpy(),bins=200)\n",
    "print(act_pdf[:,0].shape)\n",
    "# activation for a single neuron across all inputs\n",
    "\n",
    "# probability is on teh x axis here. can see that a lot of them are somewhat activatved. and \n",
    "# a select few are very activated. \n",
    "plt.show()\n"
   ]
  },
  {
   "cell_type": "code",
   "execution_count": 54,
   "metadata": {},
   "outputs": [
    {
     "data": {
      "image/png": "[encoded data removed]",
      "text/plain": [
       "<Figure size 432x288 with 1 Axes>"
      ]
     },
     "metadata": {
      "needs_background": "light"
     },
     "output_type": "display_data"
    }
   ],
   "source": [
    "plt.imshow(model.fc1[0].detach().cpu().numpy().reshape([params.img_dim, params.img_dim]))\n",
    "plt.show()"
   ]
  },
  {
   "cell_type": "code",
   "execution_count": 55,
   "metadata": {},
   "outputs": [
    {
     "data": {
      "text/plain": [
       "torch.Size([1000])"
      ]
     },
     "execution_count": 55,
     "metadata": {},
     "output_type": "execute_result"
    }
   ],
   "source": [
    "data_ent.shape"
   ]
  },
  {
   "cell_type": "code",
   "execution_count": 108,
   "metadata": {},
   "outputs": [
    {
     "data": {
      "image/png": "[encoded data removed]",
      "text/plain": [
       "<Figure size 432x288 with 1 Axes>"
      ]
     },
     "metadata": {
      "needs_background": "light"
     },
     "output_type": "display_data"
    }
   ],
   "source": [
    "plt.hist(data_ent.cpu().numpy(), bins=200)\n",
    "plt.show()"
   ]
  },
  {
   "cell_type": "code",
   "execution_count": 109,
   "metadata": {},
   "outputs": [
    {
     "data": {
      "image/png": "[encoded data removed]",
      "text/plain": [
       "<Figure size 432x288 with 1 Axes>"
      ]
     },
     "metadata": {
      "needs_background": "light"
     },
     "output_type": "display_data"
    }
   ],
   "source": [
    "plt.hist(class_ent, bins=200)\n",
    "plt.show()"
   ]
  },
  {
   "cell_type": "code",
   "execution_count": 111,
   "metadata": {},
   "outputs": [
    {
     "data": {
      "text/plain": [
       "(897, 816, 2.302585092994046)"
      ]
     },
     "execution_count": 111,
     "metadata": {},
     "output_type": "execute_result"
    }
   ],
   "source": [
    "np.argmin(class_ent), np.argmax(class_ent), np.log(10)"
   ]
  },
  {
   "cell_type": "code",
   "execution_count": 120,
   "metadata": {},
   "outputs": [
    {
     "data": {
      "image/png": "[encoded data removed]",
      "text/plain": [
       "<Figure size 432x288 with 1 Axes>"
      ]
     },
     "metadata": {
      "needs_background": "light"
     },
     "output_type": "display_data"
    },
    {
     "data": {
      "image/png": "[encoded data removed]",
      "text/plain": [
       "<Figure size 432x288 with 1 Axes>"
      ]
     },
     "metadata": {
      "needs_background": "light"
     },
     "output_type": "display_data"
    }
   ],
   "source": [
    "nind = 897\n",
    "\n",
    "plt.imshow(model.fc1[nind].detach().cpu().numpy().reshape([params.img_dim, params.img_dim]))\n",
    "plt.show()\n",
    "\n",
    "plt.bar(np.arange(10), act_pdf[:,nind])\n",
    "plt.show()"
   ]
  },
  {
   "cell_type": "code",
   "execution_count": 121,
   "metadata": {},
   "outputs": [
    {
     "data": {
      "text/plain": [
       "array([[7.35852611e-12, 0.00000000e+00, 0.00000000e+00, 0.00000000e+00,\n",
       "        0.00000000e+00, 0.00000000e+00, 0.00000000e+00, 0.00000000e+00,\n",
       "        0.00000000e+00, 0.00000000e+00, 0.00000000e+00, 1.91212541e-12,\n",
       "        1.36539651e-11, 6.68982317e-12, 1.38689088e-15, 5.77878831e-17,\n",
       "        0.00000000e+00, 4.86188867e-12, 1.29668993e-11, 0.00000000e+00,\n",
       "        1.26348593e-11, 0.00000000e+00, 0.00000000e+00, 0.00000000e+00,\n",
       "        0.00000000e+00, 1.34225131e-11, 7.73945925e-12, 8.65895029e-12],\n",
       "       [5.36307544e-12, 1.10483896e-11, 1.31874893e-11, 0.00000000e+00,\n",
       "        1.06935110e-16, 4.35303731e-16, 1.32480277e-11, 3.26974775e-14,\n",
       "        2.49031193e-14, 2.73338074e-14, 4.78803065e-12, 4.13993969e-12,\n",
       "        1.42691848e-13, 1.59380647e-12, 1.42284726e-11, 3.08511307e-11,\n",
       "        1.60378204e-11, 9.56006281e-12, 7.84221212e-12, 3.07559493e-14,\n",
       "        2.64006041e-14, 3.73222503e-13, 2.62048217e-12, 4.05510998e-12,\n",
       "        0.00000000e+00, 0.00000000e+00, 0.00000000e+00, 0.00000000e+00],\n",
       "       [0.00000000e+00, 7.37279508e-12, 1.04263178e-11, 6.37515605e-12,\n",
       "        2.09091692e-15, 1.78419084e-15, 1.56969359e-12, 9.02720346e-12,\n",
       "        1.21843490e-11, 1.39193399e-13, 3.40658501e-09, 6.13959239e-09,\n",
       "        0.00000000e+00, 0.00000000e+00, 0.00000000e+00, 0.00000000e+00,\n",
       "        0.00000000e+00, 0.00000000e+00, 1.20362745e-13, 0.00000000e+00,\n",
       "        0.00000000e+00, 0.00000000e+00, 7.44261830e-14, 8.96418009e-12,\n",
       "        1.03550998e-14, 1.00610024e-11, 0.00000000e+00, 0.00000000e+00],\n",
       "       [0.00000000e+00, 0.00000000e+00, 1.62572178e-05, 3.87076079e-06,\n",
       "        4.97591411e-15, 0.00000000e+00, 1.07091128e-13, 1.89558923e-05,\n",
       "        9.80476761e-06, 1.43803418e-05, 2.61753758e-05, 1.16076379e-04,\n",
       "        6.11568976e-05, 2.09378904e-05, 1.05989064e-04, 5.32367092e-04,\n",
       "        1.12543930e-03, 9.20583203e-04, 2.79917265e-04, 3.72202203e-06,\n",
       "        9.76407023e-07, 1.31525610e-10, 0.00000000e+00, 4.45709089e-13,\n",
       "        0.00000000e+00, 7.67342787e-12, 0.00000000e+00, 1.19784456e-12],\n",
       "       [0.00000000e+00, 4.54868391e-12, 5.57391322e-05, 1.35476885e-05,\n",
       "        1.80492353e-14, 0.00000000e+00, 0.00000000e+00, 4.84217126e-05,\n",
       "        3.28068054e-05, 2.88109022e-05, 4.85369492e-05, 7.97546963e-05,\n",
       "        1.75477442e-04, 1.23024371e-03, 1.61984432e-02, 5.17461710e-02,\n",
       "        6.84160441e-02, 3.78137641e-02, 6.86194981e-03, 3.14092526e-04,\n",
       "        0.00000000e+00, 0.00000000e+00, 0.00000000e+00, 0.00000000e+00,\n",
       "        2.82983012e-12, 0.00000000e+00, 5.21161196e-12, 1.03476082e-12],\n",
       "       [1.25336954e-11, 0.00000000e+00, 7.74151977e-06, 1.93537994e-06,\n",
       "        8.31508460e-14, 0.00000000e+00, 2.01770490e-05, 4.57069859e-07,\n",
       "        0.00000000e+00, 0.00000000e+00, 0.00000000e+00, 0.00000000e+00,\n",
       "        6.98720442e-06, 3.93265113e-03, 3.42610851e-02, 1.01449393e-01,\n",
       "        1.28539354e-01, 7.62655735e-02, 1.47005077e-02, 1.05125550e-03,\n",
       "        2.73515275e-06, 5.87097702e-07, 6.83959297e-05, 2.93595235e-07,\n",
       "        0.00000000e+00, 8.93986708e-12, 1.26512993e-14, 1.25177308e-11],\n",
       "       [0.00000000e+00, 0.00000000e+00, 7.63921825e-12, 1.96873152e-05,\n",
       "        4.02904552e-05, 2.08165679e-10, 2.03068084e-05, 5.74765807e-07,\n",
       "        0.00000000e+00, 0.00000000e+00, 0.00000000e+00, 0.00000000e+00,\n",
       "        6.95356334e-07, 5.63843269e-03, 4.79950383e-02, 1.28193110e-01,\n",
       "        1.45695180e-01, 8.24531987e-02, 1.56392939e-02, 9.65600426e-04,\n",
       "        6.24342938e-05, 5.12287806e-05, 1.03059392e-04, 4.14535498e-05,\n",
       "        0.00000000e+00, 4.19061964e-12, 0.00000000e+00, 1.14527710e-11],\n",
       "       [6.66494767e-12, 0.00000000e+00, 2.77833941e-12, 4.12191184e-06,\n",
       "        8.24261406e-06, 1.11329135e-09, 2.88341596e-07, 1.07676415e-05,\n",
       "        8.18405397e-07, 0.00000000e+00, 0.00000000e+00, 5.59288083e-06,\n",
       "        1.14326729e-04, 8.10080674e-03, 6.19456209e-02, 1.43585309e-01,\n",
       "        1.46062687e-01, 7.19270185e-02, 1.00115910e-02, 4.82970179e-04,\n",
       "        1.17659263e-04, 1.11933186e-04, 1.11837333e-04, 3.01886430e-05,\n",
       "        0.00000000e+00, 0.00000000e+00, 2.51665420e-12, 9.17652759e-12],\n",
       "       [3.84087510e-12, 0.00000000e+00, 2.39990775e-12, 1.25079851e-11,\n",
       "        0.00000000e+00, 1.70612948e-05, 2.18869027e-05, 8.95672056e-05,\n",
       "        4.96635494e-07, 0.00000000e+00, 6.11472706e-06, 1.35260689e-05,\n",
       "        5.83836751e-04, 1.22705763e-02, 7.94443116e-02, 1.54635936e-01,\n",
       "        1.40609547e-01, 5.53020053e-02, 5.24136797e-03, 3.37489531e-04,\n",
       "        1.43741127e-04, 1.48927385e-04, 5.18182205e-05, 3.74219233e-09,\n",
       "        0.00000000e+00, 0.00000000e+00, 1.09236422e-11, 0.00000000e+00],\n",
       "       [0.00000000e+00, 3.04790711e-14, 1.61200428e-15, 2.96914084e-14,\n",
       "        1.94486566e-10, 2.28314439e-05, 7.50685786e-06, 0.00000000e+00,\n",
       "        0.00000000e+00, 4.52615132e-05, 2.24420539e-04, 2.08861908e-04,\n",
       "        1.21374708e-03, 1.88553352e-02, 9.99887809e-02, 1.60840794e-01,\n",
       "        1.28564388e-01, 3.83253247e-02, 2.91900802e-03, 2.68509059e-04,\n",
       "        2.99458952e-05, 1.09789231e-04, 2.67908199e-05, 1.18822401e-08,\n",
       "        1.86637372e-09, 1.25025023e-12, 0.00000000e+00, 8.99448484e-12],\n",
       "       [0.00000000e+00, 5.91731051e-14, 8.13020551e-16, 0.00000000e+00,\n",
       "        9.74443265e-06, 3.16467631e-05, 3.60650733e-06, 6.56367320e-06,\n",
       "        0.00000000e+00, 1.61463642e-04, 3.74206313e-04, 4.44153731e-04,\n",
       "        2.36690510e-03, 3.06067429e-02, 1.21685453e-01, 1.62319407e-01,\n",
       "        1.10868171e-01, 2.32586730e-02, 1.31269800e-03, 1.58280716e-04,\n",
       "        3.90848472e-05, 2.04129363e-04, 1.15297815e-04, 3.57664976e-05,\n",
       "        7.57106441e-14, 1.45139566e-05, 4.31599256e-05, 1.45139556e-05],\n",
       "       [0.00000000e+00, 2.49927540e-14, 1.47947230e-14, 8.68260238e-12,\n",
       "        6.59576835e-05, 1.08835571e-04, 2.76312257e-05, 0.00000000e+00,\n",
       "        0.00000000e+00, 0.00000000e+00, 1.95392611e-04, 3.98164528e-04,\n",
       "        4.87047900e-03, 4.69072983e-02, 1.40964076e-01, 1.59666300e-01,\n",
       "        8.98973867e-02, 1.27160903e-02, 4.16481605e-04, 1.86350138e-04,\n",
       "        1.26633022e-04, 2.54129525e-04, 1.20113524e-04, 6.37603298e-05,\n",
       "        3.01720302e-05, 2.17063844e-05, 5.19446476e-05, 3.43750798e-06],\n",
       "       [0.00000000e+00, 1.06051431e-12, 8.69365170e-12, 8.32301011e-14,\n",
       "        1.57398717e-05, 2.86917748e-05, 1.16626397e-05, 9.94307629e-06,\n",
       "        3.75713078e-08, 0.00000000e+00, 2.12392697e-05, 4.41294891e-04,\n",
       "        9.38380882e-03, 6.78458735e-02, 1.53949514e-01, 1.52045041e-01,\n",
       "        6.58125356e-02, 5.97427413e-03, 1.98705995e-04, 1.21582285e-04,\n",
       "        1.08107241e-04, 3.40924016e-04, 7.77772657e-05, 0.00000000e+00,\n",
       "        1.92191419e-06, 5.76571938e-06, 0.00000000e+00, 0.00000000e+00],\n",
       "       [3.42502848e-09, 1.33546264e-11, 2.28500288e-15, 1.00601463e-11,\n",
       "        1.92006608e-13, 1.65017736e-05, 3.25338115e-05, 0.00000000e+00,\n",
       "        0.00000000e+00, 0.00000000e+00, 5.88644980e-05, 6.14034245e-04,\n",
       "        1.63586307e-02, 9.29942578e-02, 1.61910579e-01, 1.37666568e-01,\n",
       "        4.31254730e-02, 2.56140414e-03, 8.61517947e-06, 0.00000000e+00,\n",
       "        2.72421607e-06, 2.04110620e-04, 5.91970929e-05, 0.00000000e+00,\n",
       "        1.48142206e-07, 1.95762993e-07, 2.48118756e-12, 3.43920552e-12],\n",
       "       [9.54796485e-12, 0.00000000e+00, 1.19975193e-11, 1.70354846e-13,\n",
       "        1.22744892e-09, 8.27732219e-06, 7.88425314e-05, 1.08283848e-05,\n",
       "        0.00000000e+00, 4.60723313e-05, 1.61894015e-04, 1.65731309e-03,\n",
       "        2.67012585e-02, 1.17390156e-01, 1.64281011e-01, 1.18779555e-01,\n",
       "        2.54250895e-02, 1.27727899e-03, 2.76774608e-06, 0.00000000e+00,\n",
       "        4.79841837e-08, 2.26573335e-04, 2.36628275e-05, 0.00000000e+00,\n",
       "        0.00000000e+00, 0.00000000e+00, 1.66406255e-12, 1.00328123e-11],\n",
       "       [7.69587172e-12, 3.40094641e-12, 6.26583814e-14, 8.31770922e-06,\n",
       "        9.98146788e-06, 0.00000000e+00, 0.00000000e+00, 0.00000000e+00,\n",
       "        0.00000000e+00, 0.00000000e+00, 0.00000000e+00, 3.94616509e-03,\n",
       "        4.33752164e-02, 1.38898388e-01, 1.61382049e-01, 9.48159918e-02,\n",
       "        1.41508486e-02, 4.38416784e-04, 0.00000000e+00, 0.00000000e+00,\n",
       "        0.00000000e+00, 1.27464591e-04, 0.00000000e+00, 0.00000000e+00,\n",
       "        0.00000000e+00, 0.00000000e+00, 7.02310009e-13, 1.28273916e-14],\n",
       "       [0.00000000e+00, 1.61540398e-14, 4.19629782e-12, 2.07943253e-06,\n",
       "        2.49729328e-06, 6.82099877e-10, 8.90621195e-08, 0.00000000e+00,\n",
       "        0.00000000e+00, 0.00000000e+00, 1.50584325e-04, 7.37560401e-03,\n",
       "        6.52232021e-02, 1.53492421e-01, 1.53603286e-01, 6.99808821e-02,\n",
       "        6.99934829e-03, 6.97154537e-05, 0.00000000e+00, 1.44340936e-06,\n",
       "        0.00000000e+00, 9.80218538e-05, 6.81334714e-05, 0.00000000e+00,\n",
       "        0.00000000e+00, 1.43518728e-13, 3.82028809e-09, 8.86584729e-12],\n",
       "       [9.15161436e-12, 1.17979736e-12, 7.10473217e-12, 0.00000000e+00,\n",
       "        9.40036160e-10, 4.84550677e-10, 0.00000000e+00, 0.00000000e+00,\n",
       "        8.31040416e-06, 4.94297856e-05, 5.59648324e-04, 1.42026404e-02,\n",
       "        9.11091939e-02, 1.60393849e-01, 1.39691979e-01, 4.71736975e-02,\n",
       "        3.61615885e-03, 9.03748078e-05, 0.00000000e+00, 1.15601915e-06,\n",
       "        1.51544418e-06, 2.35454468e-06, 1.43146190e-05, 0.00000000e+00,\n",
       "        0.00000000e+00, 0.00000000e+00, 1.05201962e-05, 4.35599213e-06],\n",
       "       [3.61593664e-15, 9.87563763e-13, 1.12801600e-11, 0.00000000e+00,\n",
       "        0.00000000e+00, 4.36592039e-12, 3.73381567e-06, 2.39762267e-05,\n",
       "        6.46810513e-05, 8.23252485e-05, 1.61073415e-03, 2.52482407e-02,\n",
       "        1.13159068e-01, 1.62430689e-01, 1.22261167e-01, 3.01495641e-02,\n",
       "        2.42791488e-03, 1.71541120e-04, 1.01407750e-06, 0.00000000e+00,\n",
       "        9.96718063e-06, 1.39966815e-07, 0.00000000e+00, 0.00000000e+00,\n",
       "        0.00000000e+00, 0.00000000e+00, 5.29112658e-05, 7.02402976e-05],\n",
       "       [1.82850222e-14, 1.14549021e-11, 1.15523353e-05, 7.60019793e-06,\n",
       "        0.00000000e+00, 0.00000000e+00, 3.73369562e-06, 4.00476574e-06,\n",
       "        1.23324853e-05, 2.08591155e-04, 3.64131364e-03, 4.03427668e-02,\n",
       "        1.30467713e-01, 1.60496742e-01, 1.00891456e-01, 1.94545276e-02,\n",
       "        2.39973562e-03, 5.41278685e-04, 2.49522360e-04, 9.18778023e-05,\n",
       "        3.93473420e-05, 1.68272127e-05, 0.00000000e+00, 2.79791995e-10,\n",
       "        0.00000000e+00, 1.90712779e-09, 5.66907721e-09, 5.44498507e-05],\n",
       "       [1.00610414e-11, 3.96809322e-12, 2.73607202e-06, 1.82405040e-06,\n",
       "        0.00000000e+00, 3.75949216e-10, 7.24801021e-06, 4.47217826e-05,\n",
       "        1.37599811e-04, 5.24834206e-04, 7.38994777e-03, 5.73024787e-02,\n",
       "        1.42503947e-01, 1.53964579e-01, 8.10152590e-02, 1.39722945e-02,\n",
       "        2.43967120e-03, 8.29189841e-04, 4.81558818e-04, 2.89408927e-04,\n",
       "        1.12414018e-04, 1.08126864e-04, 0.00000000e+00, 2.90099833e-10,\n",
       "        1.19230947e-06, 4.77028880e-06, 4.89223329e-09, 2.89617065e-14],\n",
       "       [8.70413575e-10, 2.72000450e-10, 1.17206930e-11, 9.61880228e-12,\n",
       "        3.15085610e-12, 2.81291050e-05, 1.01506448e-04, 9.81520861e-05,\n",
       "        1.86702644e-04, 7.61287054e-04, 1.30840372e-02, 7.38519579e-02,\n",
       "        1.48760587e-01, 1.44324109e-01, 6.71583787e-02, 1.27838338e-02,\n",
       "        2.43739248e-03, 6.44251588e-04, 4.28282976e-04, 3.90317786e-04,\n",
       "        1.46799648e-04, 3.77170886e-06, 0.00000000e+00, 0.00000000e+00,\n",
       "        7.55121346e-06, 4.45126534e-05, 5.67436000e-05, 8.88016310e-12],\n",
       "       [8.43214831e-10, 2.72000672e-10, 0.00000000e+00, 8.36568922e-12,\n",
       "        2.81803492e-09, 2.95025493e-05, 3.20233485e-05, 2.24826232e-04,\n",
       "        3.39224702e-04, 1.25480921e-03, 1.88860148e-02, 8.12295154e-02,\n",
       "        1.48205906e-01, 1.30711704e-01, 5.69173023e-02, 1.03163105e-02,\n",
       "        1.36811251e-03, 3.07593931e-04, 2.22118790e-04, 1.79998286e-04,\n",
       "        1.71600732e-06, 6.40788630e-06, 0.00000000e+00, 0.00000000e+00,\n",
       "        8.70175546e-12, 4.96792127e-05, 3.39545142e-10, 0.00000000e+00],\n",
       "       [0.00000000e+00, 3.53589597e-12, 7.97179857e-12, 6.69168887e-12,\n",
       "        5.38878794e-12, 4.87526049e-05, 8.74762991e-05, 8.88876966e-05,\n",
       "        8.60753426e-05, 9.17309953e-04, 1.54984901e-02, 6.79009333e-02,\n",
       "        1.27180949e-01, 1.05074897e-01, 3.84156443e-02, 5.44878142e-03,\n",
       "        7.55556277e-04, 1.58793089e-04, 1.80356874e-04, 1.62824974e-04,\n",
       "        1.17046802e-05, 1.11474246e-05, 0.00000000e+00, 1.08152108e-05,\n",
       "        2.41445641e-09, 1.73851629e-13, 1.88936333e-09, 0.00000000e+00],\n",
       "       [0.00000000e+00, 8.53816583e-12, 1.03127784e-11, 6.20063809e-12,\n",
       "        1.01849831e-11, 5.75509353e-14, 1.39322043e-09, 0.00000000e+00,\n",
       "        0.00000000e+00, 4.32505876e-05, 3.05848662e-03, 1.68219898e-02,\n",
       "        3.48896496e-02, 3.11355479e-02, 1.06879817e-02, 1.43919897e-03,\n",
       "        1.67236329e-04, 8.27278127e-05, 0.00000000e+00, 0.00000000e+00,\n",
       "        0.00000000e+00, 0.00000000e+00, 0.00000000e+00, 7.41606054e-05,\n",
       "        7.41898730e-12, 1.12888357e-13, 6.15891322e-12, 7.19885306e-12],\n",
       "       [1.36232050e-11, 0.00000000e+00, 4.32023471e-12, 1.19465184e-11,\n",
       "        0.00000000e+00, 0.00000000e+00, 0.00000000e+00, 0.00000000e+00,\n",
       "        0.00000000e+00, 0.00000000e+00, 2.31395054e-04, 4.55815956e-04,\n",
       "        6.96570147e-04, 5.92073076e-04, 3.27230635e-04, 3.19010996e-06,\n",
       "        0.00000000e+00, 9.23688903e-12, 2.43284949e-12, 0.00000000e+00,\n",
       "        0.00000000e+00, 1.31131720e-11, 7.12095487e-12, 0.00000000e+00,\n",
       "        1.15351756e-11, 4.74021660e-15, 8.67282982e-12, 7.52375506e-12],\n",
       "       [0.00000000e+00, 0.00000000e+00, 0.00000000e+00, 7.79318220e-14,\n",
       "        1.32242264e-11, 1.34061503e-11, 0.00000000e+00, 1.13298919e-11,\n",
       "        6.71627164e-12, 0.00000000e+00, 0.00000000e+00, 0.00000000e+00,\n",
       "        0.00000000e+00, 0.00000000e+00, 0.00000000e+00, 0.00000000e+00,\n",
       "        0.00000000e+00, 8.23268537e-12, 8.47154898e-12, 3.42785587e-12,\n",
       "        0.00000000e+00, 0.00000000e+00, 0.00000000e+00, 1.00995462e-11,\n",
       "        6.82031363e-13, 0.00000000e+00, 4.31039796e-12, 0.00000000e+00],\n",
       "       [1.06671234e-11, 7.06202241e-12, 0.00000000e+00, 0.00000000e+00,\n",
       "        0.00000000e+00, 0.00000000e+00, 5.80996275e-12, 1.28601470e-11,\n",
       "        0.00000000e+00, 0.00000000e+00, 1.17758251e-11, 2.64718243e-14,\n",
       "        3.15686019e-12, 1.81221347e-12, 6.37518033e-12, 1.16544231e-11,\n",
       "        4.36087754e-12, 9.82138849e-13, 0.00000000e+00, 6.47000682e-12,\n",
       "        2.45887707e-12, 0.00000000e+00, 0.00000000e+00, 4.16491017e-12,\n",
       "        0.00000000e+00, 0.00000000e+00, 0.00000000e+00, 0.00000000e+00]],\n",
       "      dtype=float32)"
      ]
     },
     "execution_count": 121,
     "metadata": {},
     "output_type": "execute_result"
    }
   ],
   "source": [
    "model.fc1[nind].detach().cpu().numpy().reshape([params.img_dim, params.img_dim])"
   ]
  },
  {
   "cell_type": "code",
   "execution_count": 126,
   "metadata": {},
   "outputs": [
    {
     "data": {
      "image/png": "[encoded data removed]",
      "text/plain": [
       "<Figure size 432x288 with 1 Axes>"
      ]
     },
     "metadata": {
      "needs_background": "light"
     },
     "output_type": "display_data"
    }
   ],
   "source": [
    "plt.hist(weight_sparsity_percentage.cpu().numpy(), bins=200)\n",
    "plt.show()"
   ]
  },
  {
   "cell_type": "code",
   "execution_count": 129,
   "metadata": {},
   "outputs": [
    {
     "data": {
      "image/png": "[encoded data removed]",
      "text/plain": [
       "<Figure size 432x288 with 1 Axes>"
      ]
     },
     "metadata": {
      "needs_background": "light"
     },
     "output_type": "display_data"
    },
    {
     "data": {
      "image/png": "[encoded data removed]",
      "text/plain": [
       "<Figure size 432x288 with 1 Axes>"
      ]
     },
     "metadata": {
      "needs_background": "light"
     },
     "output_type": "display_data"
    }
   ],
   "source": [
    "\n",
    "plt.imshow(model.fc1[torch.argmin(weight_sparsity_percentage)].detach().cpu().numpy().reshape([params.img_dim, params.img_dim]))\n",
    "plt.title(\"Least Sparse\")\n",
    "plt.show()\n",
    "\n",
    "plt.imshow(model.fc1[torch.argmax(weight_sparsity_percentage)].detach().cpu().numpy().reshape([params.img_dim, params.img_dim]))\n",
    "plt.title(\"Most Sparse\")\n",
    "plt.show()"
   ]
  },
  {
   "cell_type": "code",
   "execution_count": null,
   "metadata": {},
   "outputs": [],
   "source": []
  },
  {
   "cell_type": "code",
   "execution_count": null,
   "metadata": {},
   "outputs": [],
   "source": []
  }
 ],
 "metadata": {
  "interpreter": {
   "hash": "b79e30f1293356f40e6101fd4857a1e3851d48caf36daef1a794617153a89eff"
  },
  "kernelspec": {
   "display_name": "Python 3",
   "language": "python",
   "name": "python3"
  },
  "language_info": {
   "codemirror_mode": {
    "name": "ipython",
    "version": 3
   },
   "file_extension": ".py",
   "mimetype": "text/x-python",
   "name": "python",
   "nbconvert_exporter": "python",
   "pygments_lexer": "ipython3",
   "version": "3.8.3"
  }
 },
 "nbformat": 4,
 "nbformat_minor": 4
}
